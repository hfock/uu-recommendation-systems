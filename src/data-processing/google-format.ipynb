{
 "cells": [
  {
   "cell_type": "code",
   "execution_count": 1,
   "outputs": [],
   "source": [
    "import pandas as pd"
   ],
   "metadata": {
    "collapsed": false,
    "pycharm": {
     "name": "#%%\n"
    }
   }
  },
  {
   "cell_type": "code",
   "execution_count": 2,
   "metadata": {
    "collapsed": true
   },
   "outputs": [],
   "source": [
    "path = './../../data/'\n",
    "file = 'Empirical_investigation.csv'\n",
    "\n",
    "df = pd.read_csv(path+file, index_col=0, sep=',')\n",
    "df = df.reset_index()\n",
    "# remove unnecessary columns\n",
    "df = df.iloc[:, 1: len(df.columns)-1]\n",
    "rank_list = ['rank1', 'rank2', 'rank3', 'rank4', 'rank5', 'rank6']\n",
    "rank_list2 = rank_list[:len(rank_list)-1]\n",
    "df.columns = rank_list"
   ]
  },
  {
   "cell_type": "code",
   "execution_count": 3,
   "outputs": [],
   "source": [
    "CON = 'Convenience'\n",
    "PRI = 'Privacy'\n",
    "AUT = 'Autonomy'\n",
    "DIV = 'Diversity'\n",
    "NOB = 'No Bias'\n",
    "TRA = 'Transparency'"
   ],
   "metadata": {
    "collapsed": false,
    "pycharm": {
     "name": "#%%\n"
    }
   }
  },
  {
   "cell_type": "code",
   "execution_count": 4,
   "outputs": [],
   "source": [
    "# removing No Bias\n",
    "helper_list = []\n",
    "for i, entry in enumerate(df.values):\n",
    "    helper_list.append(entry.tolist())\n",
    "    helper_list[i].remove(NOB)"
   ],
   "metadata": {
    "collapsed": false,
    "pycharm": {
     "name": "#%%\n"
    }
   }
  },
  {
   "cell_type": "code",
   "execution_count": 5,
   "outputs": [
    {
     "data": {
      "text/plain": "          rank1         rank2         rank3        rank4         rank5\n2      Autonomy     Diversity   Convenience      Privacy  Transparency\n11  Convenience      Autonomy     Diversity      Privacy  Transparency\n6   Convenience      Autonomy  Transparency    Diversity       Privacy\n0   Convenience     Diversity       Privacy     Autonomy  Transparency\n7   Convenience     Diversity  Transparency      Privacy      Autonomy\n4     Diversity  Transparency       Privacy     Autonomy   Convenience\n1       Privacy      Autonomy  Transparency  Convenience     Diversity\n5       Privacy      Autonomy  Transparency    Diversity   Convenience\n8       Privacy      Autonomy  Transparency    Diversity   Convenience\n10      Privacy   Convenience     Diversity     Autonomy  Transparency\n3       Privacy  Transparency   Convenience     Autonomy  Transparency\n9       Privacy  Transparency     Diversity     Autonomy   Convenience",
      "text/html": "<div>\n<style scoped>\n    .dataframe tbody tr th:only-of-type {\n        vertical-align: middle;\n    }\n\n    .dataframe tbody tr th {\n        vertical-align: top;\n    }\n\n    .dataframe thead th {\n        text-align: right;\n    }\n</style>\n<table border=\"1\" class=\"dataframe\">\n  <thead>\n    <tr style=\"text-align: right;\">\n      <th></th>\n      <th>rank1</th>\n      <th>rank2</th>\n      <th>rank3</th>\n      <th>rank4</th>\n      <th>rank5</th>\n    </tr>\n  </thead>\n  <tbody>\n    <tr>\n      <th>2</th>\n      <td>Autonomy</td>\n      <td>Diversity</td>\n      <td>Convenience</td>\n      <td>Privacy</td>\n      <td>Transparency</td>\n    </tr>\n    <tr>\n      <th>11</th>\n      <td>Convenience</td>\n      <td>Autonomy</td>\n      <td>Diversity</td>\n      <td>Privacy</td>\n      <td>Transparency</td>\n    </tr>\n    <tr>\n      <th>6</th>\n      <td>Convenience</td>\n      <td>Autonomy</td>\n      <td>Transparency</td>\n      <td>Diversity</td>\n      <td>Privacy</td>\n    </tr>\n    <tr>\n      <th>0</th>\n      <td>Convenience</td>\n      <td>Diversity</td>\n      <td>Privacy</td>\n      <td>Autonomy</td>\n      <td>Transparency</td>\n    </tr>\n    <tr>\n      <th>7</th>\n      <td>Convenience</td>\n      <td>Diversity</td>\n      <td>Transparency</td>\n      <td>Privacy</td>\n      <td>Autonomy</td>\n    </tr>\n    <tr>\n      <th>4</th>\n      <td>Diversity</td>\n      <td>Transparency</td>\n      <td>Privacy</td>\n      <td>Autonomy</td>\n      <td>Convenience</td>\n    </tr>\n    <tr>\n      <th>1</th>\n      <td>Privacy</td>\n      <td>Autonomy</td>\n      <td>Transparency</td>\n      <td>Convenience</td>\n      <td>Diversity</td>\n    </tr>\n    <tr>\n      <th>5</th>\n      <td>Privacy</td>\n      <td>Autonomy</td>\n      <td>Transparency</td>\n      <td>Diversity</td>\n      <td>Convenience</td>\n    </tr>\n    <tr>\n      <th>8</th>\n      <td>Privacy</td>\n      <td>Autonomy</td>\n      <td>Transparency</td>\n      <td>Diversity</td>\n      <td>Convenience</td>\n    </tr>\n    <tr>\n      <th>10</th>\n      <td>Privacy</td>\n      <td>Convenience</td>\n      <td>Diversity</td>\n      <td>Autonomy</td>\n      <td>Transparency</td>\n    </tr>\n    <tr>\n      <th>3</th>\n      <td>Privacy</td>\n      <td>Transparency</td>\n      <td>Convenience</td>\n      <td>Autonomy</td>\n      <td>Transparency</td>\n    </tr>\n    <tr>\n      <th>9</th>\n      <td>Privacy</td>\n      <td>Transparency</td>\n      <td>Diversity</td>\n      <td>Autonomy</td>\n      <td>Convenience</td>\n    </tr>\n  </tbody>\n</table>\n</div>"
     },
     "execution_count": 5,
     "metadata": {},
     "output_type": "execute_result"
    }
   ],
   "source": [
    "df2 = pd.DataFrame(helper_list, columns=rank_list2)\n",
    "df2.sort_values(rank_list2)"
   ],
   "metadata": {
    "collapsed": false,
    "pycharm": {
     "name": "#%%\n"
    }
   }
  },
  {
   "cell_type": "code",
   "execution_count": 6,
   "outputs": [
    {
     "data": {
      "text/plain": "          rank1         rank2         rank3         rank4        rank5  \\\n2      Autonomy     Diversity       No Bias   Convenience      Privacy   \n11  Convenience      Autonomy       No Bias     Diversity      Privacy   \n6   Convenience      Autonomy       No Bias  Transparency    Diversity   \n0   Convenience     Diversity       No Bias       Privacy     Autonomy   \n7   Convenience     Diversity  Transparency       No Bias      Privacy   \n4     Diversity  Transparency       Privacy      Autonomy      No Bias   \n5       Privacy      Autonomy  Transparency     Diversity      No Bias   \n8       Privacy      Autonomy  Transparency     Diversity      No Bias   \n1       Privacy      Autonomy  Transparency       No Bias  Convenience   \n10      Privacy   Convenience     Diversity       No Bias     Autonomy   \n3       Privacy  Transparency       No Bias   Convenience     Autonomy   \n9       Privacy  Transparency       No Bias     Diversity     Autonomy   \n\n           rank6  \n2   Transparency  \n11  Transparency  \n6        Privacy  \n0   Transparency  \n7       Autonomy  \n4    Convenience  \n5    Convenience  \n8    Convenience  \n1      Diversity  \n10  Transparency  \n3   Transparency  \n9    Convenience  ",
      "text/html": "<div>\n<style scoped>\n    .dataframe tbody tr th:only-of-type {\n        vertical-align: middle;\n    }\n\n    .dataframe tbody tr th {\n        vertical-align: top;\n    }\n\n    .dataframe thead th {\n        text-align: right;\n    }\n</style>\n<table border=\"1\" class=\"dataframe\">\n  <thead>\n    <tr style=\"text-align: right;\">\n      <th></th>\n      <th>rank1</th>\n      <th>rank2</th>\n      <th>rank3</th>\n      <th>rank4</th>\n      <th>rank5</th>\n      <th>rank6</th>\n    </tr>\n  </thead>\n  <tbody>\n    <tr>\n      <th>2</th>\n      <td>Autonomy</td>\n      <td>Diversity</td>\n      <td>No Bias</td>\n      <td>Convenience</td>\n      <td>Privacy</td>\n      <td>Transparency</td>\n    </tr>\n    <tr>\n      <th>11</th>\n      <td>Convenience</td>\n      <td>Autonomy</td>\n      <td>No Bias</td>\n      <td>Diversity</td>\n      <td>Privacy</td>\n      <td>Transparency</td>\n    </tr>\n    <tr>\n      <th>6</th>\n      <td>Convenience</td>\n      <td>Autonomy</td>\n      <td>No Bias</td>\n      <td>Transparency</td>\n      <td>Diversity</td>\n      <td>Privacy</td>\n    </tr>\n    <tr>\n      <th>0</th>\n      <td>Convenience</td>\n      <td>Diversity</td>\n      <td>No Bias</td>\n      <td>Privacy</td>\n      <td>Autonomy</td>\n      <td>Transparency</td>\n    </tr>\n    <tr>\n      <th>7</th>\n      <td>Convenience</td>\n      <td>Diversity</td>\n      <td>Transparency</td>\n      <td>No Bias</td>\n      <td>Privacy</td>\n      <td>Autonomy</td>\n    </tr>\n    <tr>\n      <th>4</th>\n      <td>Diversity</td>\n      <td>Transparency</td>\n      <td>Privacy</td>\n      <td>Autonomy</td>\n      <td>No Bias</td>\n      <td>Convenience</td>\n    </tr>\n    <tr>\n      <th>5</th>\n      <td>Privacy</td>\n      <td>Autonomy</td>\n      <td>Transparency</td>\n      <td>Diversity</td>\n      <td>No Bias</td>\n      <td>Convenience</td>\n    </tr>\n    <tr>\n      <th>8</th>\n      <td>Privacy</td>\n      <td>Autonomy</td>\n      <td>Transparency</td>\n      <td>Diversity</td>\n      <td>No Bias</td>\n      <td>Convenience</td>\n    </tr>\n    <tr>\n      <th>1</th>\n      <td>Privacy</td>\n      <td>Autonomy</td>\n      <td>Transparency</td>\n      <td>No Bias</td>\n      <td>Convenience</td>\n      <td>Diversity</td>\n    </tr>\n    <tr>\n      <th>10</th>\n      <td>Privacy</td>\n      <td>Convenience</td>\n      <td>Diversity</td>\n      <td>No Bias</td>\n      <td>Autonomy</td>\n      <td>Transparency</td>\n    </tr>\n    <tr>\n      <th>3</th>\n      <td>Privacy</td>\n      <td>Transparency</td>\n      <td>No Bias</td>\n      <td>Convenience</td>\n      <td>Autonomy</td>\n      <td>Transparency</td>\n    </tr>\n    <tr>\n      <th>9</th>\n      <td>Privacy</td>\n      <td>Transparency</td>\n      <td>No Bias</td>\n      <td>Diversity</td>\n      <td>Autonomy</td>\n      <td>Convenience</td>\n    </tr>\n  </tbody>\n</table>\n</div>"
     },
     "execution_count": 6,
     "metadata": {},
     "output_type": "execute_result"
    }
   ],
   "source": [
    "df.sort_values(rank_list)"
   ],
   "metadata": {
    "collapsed": false,
    "pycharm": {
     "name": "#%%\n"
    }
   }
  },
  {
   "cell_type": "code",
   "execution_count": null,
   "outputs": [],
   "source": [
    "[8, 1, 5, 9]"
   ],
   "metadata": {
    "collapsed": false,
    "pycharm": {
     "name": "#%%\n"
    }
   }
  },
  {
   "cell_type": "code",
   "execution_count": 7,
   "outputs": [],
   "source": [
    "scale_mapper = {CON:1, PRI:2, AUT:3, DIV:4, NOB:5, TRA:6}"
   ],
   "metadata": {
    "collapsed": false,
    "pycharm": {
     "name": "#%%\n"
    }
   }
  },
  {
   "cell_type": "code",
   "execution_count": 13,
   "outputs": [],
   "source": [
    "df_int = pd.DataFrame()\n",
    "for i in range(1, 6):\n",
    "    df_int[\"rank\"+str(i)] = df2[\"rank\"+str(i)].replace(scale_mapper)"
   ],
   "metadata": {
    "collapsed": false,
    "pycharm": {
     "name": "#%%\n"
    }
   }
  },
  {
   "cell_type": "code",
   "execution_count": 15,
   "outputs": [
    {
     "data": {
      "text/plain": "    rank1  rank2  rank3  rank4  rank5\n11      1      3      4      2      6\n6       1      3      6      4      2\n0       1      4      2      3      6\n7       1      4      6      2      3\n10      2      1      4      3      6\n1       2      3      6      1      4\n5       2      3      6      4      1\n8       2      3      6      4      1\n3       2      6      1      3      6\n9       2      6      4      3      1\n2       3      4      1      2      6\n4       4      6      2      3      1",
      "text/html": "<div>\n<style scoped>\n    .dataframe tbody tr th:only-of-type {\n        vertical-align: middle;\n    }\n\n    .dataframe tbody tr th {\n        vertical-align: top;\n    }\n\n    .dataframe thead th {\n        text-align: right;\n    }\n</style>\n<table border=\"1\" class=\"dataframe\">\n  <thead>\n    <tr style=\"text-align: right;\">\n      <th></th>\n      <th>rank1</th>\n      <th>rank2</th>\n      <th>rank3</th>\n      <th>rank4</th>\n      <th>rank5</th>\n    </tr>\n  </thead>\n  <tbody>\n    <tr>\n      <th>11</th>\n      <td>1</td>\n      <td>3</td>\n      <td>4</td>\n      <td>2</td>\n      <td>6</td>\n    </tr>\n    <tr>\n      <th>6</th>\n      <td>1</td>\n      <td>3</td>\n      <td>6</td>\n      <td>4</td>\n      <td>2</td>\n    </tr>\n    <tr>\n      <th>0</th>\n      <td>1</td>\n      <td>4</td>\n      <td>2</td>\n      <td>3</td>\n      <td>6</td>\n    </tr>\n    <tr>\n      <th>7</th>\n      <td>1</td>\n      <td>4</td>\n      <td>6</td>\n      <td>2</td>\n      <td>3</td>\n    </tr>\n    <tr>\n      <th>10</th>\n      <td>2</td>\n      <td>1</td>\n      <td>4</td>\n      <td>3</td>\n      <td>6</td>\n    </tr>\n    <tr>\n      <th>1</th>\n      <td>2</td>\n      <td>3</td>\n      <td>6</td>\n      <td>1</td>\n      <td>4</td>\n    </tr>\n    <tr>\n      <th>5</th>\n      <td>2</td>\n      <td>3</td>\n      <td>6</td>\n      <td>4</td>\n      <td>1</td>\n    </tr>\n    <tr>\n      <th>8</th>\n      <td>2</td>\n      <td>3</td>\n      <td>6</td>\n      <td>4</td>\n      <td>1</td>\n    </tr>\n    <tr>\n      <th>3</th>\n      <td>2</td>\n      <td>6</td>\n      <td>1</td>\n      <td>3</td>\n      <td>6</td>\n    </tr>\n    <tr>\n      <th>9</th>\n      <td>2</td>\n      <td>6</td>\n      <td>4</td>\n      <td>3</td>\n      <td>1</td>\n    </tr>\n    <tr>\n      <th>2</th>\n      <td>3</td>\n      <td>4</td>\n      <td>1</td>\n      <td>2</td>\n      <td>6</td>\n    </tr>\n    <tr>\n      <th>4</th>\n      <td>4</td>\n      <td>6</td>\n      <td>2</td>\n      <td>3</td>\n      <td>1</td>\n    </tr>\n  </tbody>\n</table>\n</div>"
     },
     "execution_count": 15,
     "metadata": {},
     "output_type": "execute_result"
    }
   ],
   "source": [
    "df_int.sort_values(rank_list2)"
   ],
   "metadata": {
    "collapsed": false,
    "pycharm": {
     "name": "#%%\n"
    }
   }
  },
  {
   "cell_type": "code",
   "execution_count": 16,
   "outputs": [],
   "source": [
    "ppl_dict = {}\n",
    "for i, entry in enumerate(df_int.values):\n",
    "    rank_string = ''\n",
    "    ppl_dict[i] = ''.join(str(entry))"
   ],
   "metadata": {
    "collapsed": false,
    "pycharm": {
     "name": "#%%\n"
    }
   }
  },
  {
   "cell_type": "code",
   "execution_count": 17,
   "outputs": [
    {
     "name": "stdout",
     "output_type": "stream",
     "text": [
      "[1 4 2 3 6] [2 3 6 1 4]\n"
     ]
    }
   ],
   "source": [
    "print(f'{ppl_dict[0]} {ppl_dict[1]}')"
   ],
   "metadata": {
    "collapsed": false,
    "pycharm": {
     "name": "#%%\n"
    }
   }
  },
  {
   "cell_type": "code",
   "execution_count": 18,
   "outputs": [],
   "source": [
    "from similarities import jaro_distance\n",
    "from collections import defaultdict\n",
    "def ppl_with_same_values(ppl_dict, jaccard_dist = 0.9):\n",
    "    sim_ppl = defaultdict(list)\n",
    "    for person1 in ppl_dict:\n",
    "        for person2 in ppl_dict:\n",
    "            if person1 == person2:\n",
    "                continue\n",
    "            if jaro_distance(ppl_dict[person1], ppl_dict[person2]) > jaccard_dist:\n",
    "                sim_ppl[person1].append(person2)\n",
    "    return sim_ppl"
   ],
   "metadata": {
    "collapsed": false,
    "pycharm": {
     "name": "#%%\n"
    }
   }
  },
  {
   "cell_type": "code",
   "execution_count": 27,
   "outputs": [
    {
     "data": {
      "text/plain": "defaultdict(list,\n            {0: [7, 10, 11],\n             1: [5, 8],\n             2: [11],\n             4: [9],\n             5: [1, 8, 9],\n             6: [11],\n             7: [0],\n             8: [1, 5, 9],\n             9: [4, 5, 8],\n             10: [0],\n             11: [0, 2, 6]})"
     },
     "execution_count": 27,
     "metadata": {},
     "output_type": "execute_result"
    }
   ],
   "source": [
    "ppl_with_same_values(ppl_dict, 0.95)"
   ],
   "metadata": {
    "collapsed": false,
    "pycharm": {
     "name": "#%%\n"
    }
   }
  },
  {
   "cell_type": "code",
   "execution_count": 24,
   "outputs": [],
   "source": [
    "def print_ppl(ppl_keys, ppl_dict = ppl_dict):\n",
    "    for prsn in ppl_keys:\n",
    "        print(f'{ppl_dict[prsn]}')"
   ],
   "metadata": {
    "collapsed": false,
    "pycharm": {
     "name": "#%%\n"
    }
   }
  },
  {
   "cell_type": "code",
   "execution_count": 28,
   "outputs": [
    {
     "name": "stdout",
     "output_type": "stream",
     "text": [
      "[1 4 2 3 6]\n",
      "[1 4 6 2 3]\n",
      "[2 1 4 3 6]\n",
      "[1 3 4 2 6]\n"
     ]
    }
   ],
   "source": [
    "print_ppl([0, 7, 10, 11])"
   ],
   "metadata": {
    "collapsed": false,
    "pycharm": {
     "name": "#%%\n"
    }
   }
  },
  {
   "cell_type": "code",
   "execution_count": 29,
   "outputs": [
    {
     "name": "stdout",
     "output_type": "stream",
     "text": [
      "[2 3 6 4 1]\n",
      "[2 3 6 1 4]\n",
      "[2 3 6 4 1]\n",
      "[2 6 4 3 1]\n"
     ]
    }
   ],
   "source": [
    "print_ppl([8, 1, 5, 9])"
   ],
   "metadata": {
    "collapsed": false,
    "pycharm": {
     "name": "#%%\n"
    }
   }
  },
  {
   "cell_type": "code",
   "execution_count": 30,
   "outputs": [
    {
     "name": "stdout",
     "output_type": "stream",
     "text": [
      "[1 3 4 2 6]\n",
      "[1 4 2 3 6]\n",
      "[3 4 1 2 6]\n",
      "[1 3 6 4 2]\n"
     ]
    }
   ],
   "source": [
    "print_ppl([11, 0, 2, 6])"
   ],
   "metadata": {
    "collapsed": false,
    "pycharm": {
     "name": "#%%\n"
    }
   }
  },
  {
   "cell_type": "code",
   "execution_count": null,
   "outputs": [],
   "source": [],
   "metadata": {
    "collapsed": false,
    "pycharm": {
     "name": "#%%\n"
    }
   }
  }
 ],
 "metadata": {
  "kernelspec": {
   "display_name": "Python 3",
   "language": "python",
   "name": "python3"
  },
  "language_info": {
   "codemirror_mode": {
    "name": "ipython",
    "version": 2
   },
   "file_extension": ".py",
   "mimetype": "text/x-python",
   "name": "python",
   "nbconvert_exporter": "python",
   "pygments_lexer": "ipython2",
   "version": "2.7.6"
  }
 },
 "nbformat": 4,
 "nbformat_minor": 0
}