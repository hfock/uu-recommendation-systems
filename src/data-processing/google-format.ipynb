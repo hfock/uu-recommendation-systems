{
 "cells": [
  {
   "cell_type": "code",
   "execution_count": 103,
   "outputs": [],
   "source": [
    "import pandas as pd\n",
    "import numpy as np"
   ],
   "metadata": {
    "collapsed": false,
    "pycharm": {
     "name": "#%%\n"
    }
   }
  },
  {
   "cell_type": "code",
   "execution_count": 104,
   "metadata": {
    "collapsed": true
   },
   "outputs": [],
   "source": [
    "file_path = './../data/Empirical_investigation.csv'\n",
    "\n",
    "df = pd.read_csv(file_path, index_col=0, sep=',')\n"
   ]
  },
  {
   "cell_type": "code",
   "execution_count": 105,
   "outputs": [],
   "source": [
    "rank_list = ['rank1', 'rank2', 'rank3', 'rank4', 'rank5', 'rank6']\n",
    "rank_list2 = rank_list[:len(rank_list)-1]\n",
    "\n",
    "def beautify_df(df_input):\n",
    "    df_cur = df_input.reset_index()\n",
    "    # remove unnecessary columns\n",
    "    df_cur = df_cur.iloc[:, 1: len(df_cur.columns)-1]\n",
    "\n",
    "    df_cur.columns = rank_list\n",
    "    return df_cur\n",
    "\n",
    "df = beautify_df(df)"
   ],
   "metadata": {
    "collapsed": false,
    "pycharm": {
     "name": "#%%\n"
    }
   }
  },
  {
   "cell_type": "code",
   "execution_count": 106,
   "outputs": [],
   "source": [
    "CON = 'Convenience'\n",
    "PRI = 'Privacy'\n",
    "AUT = 'Autonomy'\n",
    "DIV = 'Diversity'\n",
    "NOB = 'No Bias'\n",
    "TRA = 'Transparency'\n",
    "\n",
    "rank_list = ['rank1', 'rank2', 'rank3', 'rank4', 'rank5', 'rank6']\n",
    "\n",
    "values = {CON, PRI, AUT, DIV, NOB, TRA}\n",
    "unwanted_values = {NOB}\n",
    "\n",
    "def remove_unwanted_values(df_input, values=values, unwanted_values=unwanted_values, rank_list=rank_list):\n",
    "    wanted_values = []\n",
    "    for index, entry in enumerate(df_input.values):\n",
    "        wanted_values.append(entry.tolist())\n",
    "        for value in unwanted_values:\n",
    "            wanted_values[index].remove(value)\n",
    "\n",
    "    shortened_rank_list = rank_list[:len(values - unwanted_values)]\n",
    "    return pd.DataFrame(wanted_values, columns=shortened_rank_list), shortened_rank_list"
   ],
   "metadata": {
    "collapsed": false,
    "pycharm": {
     "name": "#%%\n"
    }
   }
  },
  {
   "cell_type": "code",
   "execution_count": 107,
   "outputs": [],
   "source": [
    "# removing No Bias\n",
    "df, rank_list = remove_unwanted_values(df)"
   ],
   "metadata": {
    "collapsed": false,
    "pycharm": {
     "name": "#%%\n"
    }
   }
  },
  {
   "cell_type": "code",
   "execution_count": 108,
   "outputs": [],
   "source": [
    "df_string = df"
   ],
   "metadata": {
    "collapsed": false,
    "pycharm": {
     "name": "#%%\n"
    }
   }
  },
  {
   "cell_type": "code",
   "execution_count": 109,
   "outputs": [
    {
     "data": {
      "text/plain": "           rank1         rank2         rank3        rank4         rank5\n2       Autonomy     Diversity   Convenience      Privacy  Transparency\n11   Convenience      Autonomy     Diversity      Privacy  Transparency\n6    Convenience      Autonomy  Transparency    Diversity       Privacy\n0    Convenience     Diversity       Privacy     Autonomy  Transparency\n7    Convenience     Diversity  Transparency      Privacy      Autonomy\n4      Diversity  Transparency       Privacy     Autonomy   Convenience\n1        Privacy      Autonomy  Transparency  Convenience     Diversity\n5        Privacy      Autonomy  Transparency    Diversity   Convenience\n8        Privacy      Autonomy  Transparency    Diversity   Convenience\n10       Privacy   Convenience     Diversity     Autonomy  Transparency\n3        Privacy  Transparency   Convenience     Autonomy  Transparency\n9        Privacy  Transparency     Diversity     Autonomy   Convenience\n12       Privacy  Transparency     Diversity     Autonomy   Convenience\n13  Transparency       Privacy     Diversity  Convenience      Autonomy",
      "text/html": "<div>\n<style scoped>\n    .dataframe tbody tr th:only-of-type {\n        vertical-align: middle;\n    }\n\n    .dataframe tbody tr th {\n        vertical-align: top;\n    }\n\n    .dataframe thead th {\n        text-align: right;\n    }\n</style>\n<table border=\"1\" class=\"dataframe\">\n  <thead>\n    <tr style=\"text-align: right;\">\n      <th></th>\n      <th>rank1</th>\n      <th>rank2</th>\n      <th>rank3</th>\n      <th>rank4</th>\n      <th>rank5</th>\n    </tr>\n  </thead>\n  <tbody>\n    <tr>\n      <th>2</th>\n      <td>Autonomy</td>\n      <td>Diversity</td>\n      <td>Convenience</td>\n      <td>Privacy</td>\n      <td>Transparency</td>\n    </tr>\n    <tr>\n      <th>11</th>\n      <td>Convenience</td>\n      <td>Autonomy</td>\n      <td>Diversity</td>\n      <td>Privacy</td>\n      <td>Transparency</td>\n    </tr>\n    <tr>\n      <th>6</th>\n      <td>Convenience</td>\n      <td>Autonomy</td>\n      <td>Transparency</td>\n      <td>Diversity</td>\n      <td>Privacy</td>\n    </tr>\n    <tr>\n      <th>0</th>\n      <td>Convenience</td>\n      <td>Diversity</td>\n      <td>Privacy</td>\n      <td>Autonomy</td>\n      <td>Transparency</td>\n    </tr>\n    <tr>\n      <th>7</th>\n      <td>Convenience</td>\n      <td>Diversity</td>\n      <td>Transparency</td>\n      <td>Privacy</td>\n      <td>Autonomy</td>\n    </tr>\n    <tr>\n      <th>4</th>\n      <td>Diversity</td>\n      <td>Transparency</td>\n      <td>Privacy</td>\n      <td>Autonomy</td>\n      <td>Convenience</td>\n    </tr>\n    <tr>\n      <th>1</th>\n      <td>Privacy</td>\n      <td>Autonomy</td>\n      <td>Transparency</td>\n      <td>Convenience</td>\n      <td>Diversity</td>\n    </tr>\n    <tr>\n      <th>5</th>\n      <td>Privacy</td>\n      <td>Autonomy</td>\n      <td>Transparency</td>\n      <td>Diversity</td>\n      <td>Convenience</td>\n    </tr>\n    <tr>\n      <th>8</th>\n      <td>Privacy</td>\n      <td>Autonomy</td>\n      <td>Transparency</td>\n      <td>Diversity</td>\n      <td>Convenience</td>\n    </tr>\n    <tr>\n      <th>10</th>\n      <td>Privacy</td>\n      <td>Convenience</td>\n      <td>Diversity</td>\n      <td>Autonomy</td>\n      <td>Transparency</td>\n    </tr>\n    <tr>\n      <th>3</th>\n      <td>Privacy</td>\n      <td>Transparency</td>\n      <td>Convenience</td>\n      <td>Autonomy</td>\n      <td>Transparency</td>\n    </tr>\n    <tr>\n      <th>9</th>\n      <td>Privacy</td>\n      <td>Transparency</td>\n      <td>Diversity</td>\n      <td>Autonomy</td>\n      <td>Convenience</td>\n    </tr>\n    <tr>\n      <th>12</th>\n      <td>Privacy</td>\n      <td>Transparency</td>\n      <td>Diversity</td>\n      <td>Autonomy</td>\n      <td>Convenience</td>\n    </tr>\n    <tr>\n      <th>13</th>\n      <td>Transparency</td>\n      <td>Privacy</td>\n      <td>Diversity</td>\n      <td>Convenience</td>\n      <td>Autonomy</td>\n    </tr>\n  </tbody>\n</table>\n</div>"
     },
     "execution_count": 109,
     "metadata": {},
     "output_type": "execute_result"
    }
   ],
   "source": [
    "df.sort_values(rank_list)"
   ],
   "metadata": {
    "collapsed": false,
    "pycharm": {
     "name": "#%%\n"
    }
   }
  },
  {
   "cell_type": "code",
   "execution_count": 110,
   "outputs": [],
   "source": [
    "scale_mapper = {CON:1, PRI:2, AUT:3, DIV:4, NOB:5, TRA:6}\n",
    "\n",
    "def apply_scale_mapper(df_input, scale_mapper=scale_mapper):\n",
    "    df_int = pd.DataFrame()\n",
    "    for i in range(1, 6):\n",
    "        df_int[\"rank\"+str(i)] = df_input[\"rank\"+str(i)].replace(scale_mapper)\n",
    "    return df_int"
   ],
   "metadata": {
    "collapsed": false,
    "pycharm": {
     "name": "#%%\n"
    }
   }
  },
  {
   "cell_type": "code",
   "execution_count": 111,
   "outputs": [],
   "source": [
    "df = apply_scale_mapper(df)"
   ],
   "metadata": {
    "collapsed": false,
    "pycharm": {
     "name": "#%%\n"
    }
   }
  },
  {
   "cell_type": "code",
   "execution_count": 112,
   "outputs": [
    {
     "data": {
      "text/plain": "    rank1  rank2  rank3  rank4  rank5\n11      1      3      4      2      6\n6       1      3      6      4      2\n0       1      4      2      3      6\n7       1      4      6      2      3\n10      2      1      4      3      6\n1       2      3      6      1      4\n5       2      3      6      4      1\n8       2      3      6      4      1\n3       2      6      1      3      6\n9       2      6      4      3      1\n12      2      6      4      3      1\n2       3      4      1      2      6\n4       4      6      2      3      1\n13      6      2      4      1      3",
      "text/html": "<div>\n<style scoped>\n    .dataframe tbody tr th:only-of-type {\n        vertical-align: middle;\n    }\n\n    .dataframe tbody tr th {\n        vertical-align: top;\n    }\n\n    .dataframe thead th {\n        text-align: right;\n    }\n</style>\n<table border=\"1\" class=\"dataframe\">\n  <thead>\n    <tr style=\"text-align: right;\">\n      <th></th>\n      <th>rank1</th>\n      <th>rank2</th>\n      <th>rank3</th>\n      <th>rank4</th>\n      <th>rank5</th>\n    </tr>\n  </thead>\n  <tbody>\n    <tr>\n      <th>11</th>\n      <td>1</td>\n      <td>3</td>\n      <td>4</td>\n      <td>2</td>\n      <td>6</td>\n    </tr>\n    <tr>\n      <th>6</th>\n      <td>1</td>\n      <td>3</td>\n      <td>6</td>\n      <td>4</td>\n      <td>2</td>\n    </tr>\n    <tr>\n      <th>0</th>\n      <td>1</td>\n      <td>4</td>\n      <td>2</td>\n      <td>3</td>\n      <td>6</td>\n    </tr>\n    <tr>\n      <th>7</th>\n      <td>1</td>\n      <td>4</td>\n      <td>6</td>\n      <td>2</td>\n      <td>3</td>\n    </tr>\n    <tr>\n      <th>10</th>\n      <td>2</td>\n      <td>1</td>\n      <td>4</td>\n      <td>3</td>\n      <td>6</td>\n    </tr>\n    <tr>\n      <th>1</th>\n      <td>2</td>\n      <td>3</td>\n      <td>6</td>\n      <td>1</td>\n      <td>4</td>\n    </tr>\n    <tr>\n      <th>5</th>\n      <td>2</td>\n      <td>3</td>\n      <td>6</td>\n      <td>4</td>\n      <td>1</td>\n    </tr>\n    <tr>\n      <th>8</th>\n      <td>2</td>\n      <td>3</td>\n      <td>6</td>\n      <td>4</td>\n      <td>1</td>\n    </tr>\n    <tr>\n      <th>3</th>\n      <td>2</td>\n      <td>6</td>\n      <td>1</td>\n      <td>3</td>\n      <td>6</td>\n    </tr>\n    <tr>\n      <th>9</th>\n      <td>2</td>\n      <td>6</td>\n      <td>4</td>\n      <td>3</td>\n      <td>1</td>\n    </tr>\n    <tr>\n      <th>12</th>\n      <td>2</td>\n      <td>6</td>\n      <td>4</td>\n      <td>3</td>\n      <td>1</td>\n    </tr>\n    <tr>\n      <th>2</th>\n      <td>3</td>\n      <td>4</td>\n      <td>1</td>\n      <td>2</td>\n      <td>6</td>\n    </tr>\n    <tr>\n      <th>4</th>\n      <td>4</td>\n      <td>6</td>\n      <td>2</td>\n      <td>3</td>\n      <td>1</td>\n    </tr>\n    <tr>\n      <th>13</th>\n      <td>6</td>\n      <td>2</td>\n      <td>4</td>\n      <td>1</td>\n      <td>3</td>\n    </tr>\n  </tbody>\n</table>\n</div>"
     },
     "execution_count": 112,
     "metadata": {},
     "output_type": "execute_result"
    }
   ],
   "source": [
    "df.sort_values(rank_list)"
   ],
   "metadata": {
    "collapsed": false,
    "pycharm": {
     "name": "#%%\n"
    }
   }
  },
  {
   "cell_type": "code",
   "execution_count": 113,
   "outputs": [],
   "source": [
    "def gen_ppl_string_representation(df):\n",
    "    ppl_dict = {}\n",
    "    for i, entry in enumerate(df.values):\n",
    "        ppl_dict[i] = ''.join(str(entry))\n",
    "    return ppl_dict"
   ],
   "metadata": {
    "collapsed": false,
    "pycharm": {
     "name": "#%%\n"
    }
   }
  },
  {
   "cell_type": "code",
   "execution_count": 114,
   "outputs": [],
   "source": [
    "ppl_dict = gen_ppl_string_representation(df)"
   ],
   "metadata": {
    "collapsed": false,
    "pycharm": {
     "name": "#%%\n"
    }
   }
  },
  {
   "cell_type": "code",
   "execution_count": 115,
   "outputs": [
    {
     "data": {
      "text/plain": "{0: '[1 4 2 3 6]',\n 1: '[2 3 6 1 4]',\n 2: '[3 4 1 2 6]',\n 3: '[2 6 1 3 6]',\n 4: '[4 6 2 3 1]',\n 5: '[2 3 6 4 1]',\n 6: '[1 3 6 4 2]',\n 7: '[1 4 6 2 3]',\n 8: '[2 3 6 4 1]',\n 9: '[2 6 4 3 1]',\n 10: '[2 1 4 3 6]',\n 11: '[1 3 4 2 6]',\n 12: '[2 6 4 3 1]',\n 13: '[6 2 4 1 3]'}"
     },
     "execution_count": 115,
     "metadata": {},
     "output_type": "execute_result"
    }
   ],
   "source": [
    "ppl_dict"
   ],
   "metadata": {
    "collapsed": false,
    "pycharm": {
     "name": "#%%\n"
    }
   }
  },
  {
   "cell_type": "code",
   "execution_count": 116,
   "outputs": [],
   "source": [
    "from similarities import jaro_distance\n",
    "from collections import defaultdict\n",
    "def ppl_with_same_values(ppl_dict, jaccard_dist = 0.9):\n",
    "    sim_ppl = defaultdict(list)\n",
    "    for person1 in ppl_dict:\n",
    "        for person2 in ppl_dict:\n",
    "            if person1 == person2:\n",
    "                continue\n",
    "            if jaro_distance(ppl_dict[person1], ppl_dict[person2]) > jaccard_dist:\n",
    "                sim_ppl[person1].append(person2)\n",
    "    return sim_ppl"
   ],
   "metadata": {
    "collapsed": false,
    "pycharm": {
     "name": "#%%\n"
    }
   }
  },
  {
   "cell_type": "code",
   "execution_count": 117,
   "outputs": [
    {
     "data": {
      "text/plain": "defaultdict(list,\n            {0: [7, 10, 11],\n             1: [5, 8],\n             2: [11],\n             4: [9, 12],\n             5: [1, 8, 9, 12],\n             6: [11],\n             7: [0],\n             8: [1, 5, 9, 12],\n             9: [4, 5, 8, 12],\n             10: [0],\n             11: [0, 2, 6],\n             12: [4, 5, 8, 9]})"
     },
     "execution_count": 117,
     "metadata": {},
     "output_type": "execute_result"
    }
   ],
   "source": [
    "ppl_with_same_values(ppl_dict, 0.95)"
   ],
   "metadata": {
    "collapsed": false,
    "pycharm": {
     "name": "#%%\n"
    }
   }
  },
  {
   "cell_type": "code",
   "execution_count": 118,
   "outputs": [],
   "source": [
    "similar1 = [0, 7, 10, 11]\n",
    "similar2 = [1, 5, 4, 8, 9, 12]\n",
    "similar3 = [2, 6, 11]"
   ],
   "metadata": {
    "collapsed": false,
    "pycharm": {
     "name": "#%%\n"
    }
   }
  },
  {
   "cell_type": "code",
   "execution_count": 119,
   "outputs": [
    {
     "data": {
      "text/plain": "          rank1        rank2         rank3     rank4         rank5\n0   Convenience    Diversity       Privacy  Autonomy  Transparency\n7   Convenience    Diversity  Transparency   Privacy      Autonomy\n10      Privacy  Convenience     Diversity  Autonomy  Transparency\n11  Convenience     Autonomy     Diversity   Privacy  Transparency",
      "text/html": "<div>\n<style scoped>\n    .dataframe tbody tr th:only-of-type {\n        vertical-align: middle;\n    }\n\n    .dataframe tbody tr th {\n        vertical-align: top;\n    }\n\n    .dataframe thead th {\n        text-align: right;\n    }\n</style>\n<table border=\"1\" class=\"dataframe\">\n  <thead>\n    <tr style=\"text-align: right;\">\n      <th></th>\n      <th>rank1</th>\n      <th>rank2</th>\n      <th>rank3</th>\n      <th>rank4</th>\n      <th>rank5</th>\n    </tr>\n  </thead>\n  <tbody>\n    <tr>\n      <th>0</th>\n      <td>Convenience</td>\n      <td>Diversity</td>\n      <td>Privacy</td>\n      <td>Autonomy</td>\n      <td>Transparency</td>\n    </tr>\n    <tr>\n      <th>7</th>\n      <td>Convenience</td>\n      <td>Diversity</td>\n      <td>Transparency</td>\n      <td>Privacy</td>\n      <td>Autonomy</td>\n    </tr>\n    <tr>\n      <th>10</th>\n      <td>Privacy</td>\n      <td>Convenience</td>\n      <td>Diversity</td>\n      <td>Autonomy</td>\n      <td>Transparency</td>\n    </tr>\n    <tr>\n      <th>11</th>\n      <td>Convenience</td>\n      <td>Autonomy</td>\n      <td>Diversity</td>\n      <td>Privacy</td>\n      <td>Transparency</td>\n    </tr>\n  </tbody>\n</table>\n</div>"
     },
     "execution_count": 119,
     "metadata": {},
     "output_type": "execute_result"
    }
   ],
   "source": [
    "persona1 = df_string.iloc[similar1, :]\n",
    "persona1"
   ],
   "metadata": {
    "collapsed": false,
    "pycharm": {
     "name": "#%%\n"
    }
   }
  },
  {
   "cell_type": "code",
   "execution_count": 120,
   "outputs": [
    {
     "data": {
      "text/plain": "        rank1         rank2         rank3        rank4        rank5\n1     Privacy      Autonomy  Transparency  Convenience    Diversity\n5     Privacy      Autonomy  Transparency    Diversity  Convenience\n4   Diversity  Transparency       Privacy     Autonomy  Convenience\n8     Privacy      Autonomy  Transparency    Diversity  Convenience\n9     Privacy  Transparency     Diversity     Autonomy  Convenience\n12    Privacy  Transparency     Diversity     Autonomy  Convenience",
      "text/html": "<div>\n<style scoped>\n    .dataframe tbody tr th:only-of-type {\n        vertical-align: middle;\n    }\n\n    .dataframe tbody tr th {\n        vertical-align: top;\n    }\n\n    .dataframe thead th {\n        text-align: right;\n    }\n</style>\n<table border=\"1\" class=\"dataframe\">\n  <thead>\n    <tr style=\"text-align: right;\">\n      <th></th>\n      <th>rank1</th>\n      <th>rank2</th>\n      <th>rank3</th>\n      <th>rank4</th>\n      <th>rank5</th>\n    </tr>\n  </thead>\n  <tbody>\n    <tr>\n      <th>1</th>\n      <td>Privacy</td>\n      <td>Autonomy</td>\n      <td>Transparency</td>\n      <td>Convenience</td>\n      <td>Diversity</td>\n    </tr>\n    <tr>\n      <th>5</th>\n      <td>Privacy</td>\n      <td>Autonomy</td>\n      <td>Transparency</td>\n      <td>Diversity</td>\n      <td>Convenience</td>\n    </tr>\n    <tr>\n      <th>4</th>\n      <td>Diversity</td>\n      <td>Transparency</td>\n      <td>Privacy</td>\n      <td>Autonomy</td>\n      <td>Convenience</td>\n    </tr>\n    <tr>\n      <th>8</th>\n      <td>Privacy</td>\n      <td>Autonomy</td>\n      <td>Transparency</td>\n      <td>Diversity</td>\n      <td>Convenience</td>\n    </tr>\n    <tr>\n      <th>9</th>\n      <td>Privacy</td>\n      <td>Transparency</td>\n      <td>Diversity</td>\n      <td>Autonomy</td>\n      <td>Convenience</td>\n    </tr>\n    <tr>\n      <th>12</th>\n      <td>Privacy</td>\n      <td>Transparency</td>\n      <td>Diversity</td>\n      <td>Autonomy</td>\n      <td>Convenience</td>\n    </tr>\n  </tbody>\n</table>\n</div>"
     },
     "execution_count": 120,
     "metadata": {},
     "output_type": "execute_result"
    }
   ],
   "source": [
    "persona2 = df_string.iloc[similar2, :]\n",
    "persona2"
   ],
   "metadata": {
    "collapsed": false,
    "pycharm": {
     "name": "#%%\n"
    }
   }
  },
  {
   "cell_type": "code",
   "execution_count": 121,
   "outputs": [
    {
     "data": {
      "text/plain": "          rank1      rank2         rank3      rank4         rank5\n2      Autonomy  Diversity   Convenience    Privacy  Transparency\n6   Convenience   Autonomy  Transparency  Diversity       Privacy\n11  Convenience   Autonomy     Diversity    Privacy  Transparency",
      "text/html": "<div>\n<style scoped>\n    .dataframe tbody tr th:only-of-type {\n        vertical-align: middle;\n    }\n\n    .dataframe tbody tr th {\n        vertical-align: top;\n    }\n\n    .dataframe thead th {\n        text-align: right;\n    }\n</style>\n<table border=\"1\" class=\"dataframe\">\n  <thead>\n    <tr style=\"text-align: right;\">\n      <th></th>\n      <th>rank1</th>\n      <th>rank2</th>\n      <th>rank3</th>\n      <th>rank4</th>\n      <th>rank5</th>\n    </tr>\n  </thead>\n  <tbody>\n    <tr>\n      <th>2</th>\n      <td>Autonomy</td>\n      <td>Diversity</td>\n      <td>Convenience</td>\n      <td>Privacy</td>\n      <td>Transparency</td>\n    </tr>\n    <tr>\n      <th>6</th>\n      <td>Convenience</td>\n      <td>Autonomy</td>\n      <td>Transparency</td>\n      <td>Diversity</td>\n      <td>Privacy</td>\n    </tr>\n    <tr>\n      <th>11</th>\n      <td>Convenience</td>\n      <td>Autonomy</td>\n      <td>Diversity</td>\n      <td>Privacy</td>\n      <td>Transparency</td>\n    </tr>\n  </tbody>\n</table>\n</div>"
     },
     "execution_count": 121,
     "metadata": {},
     "output_type": "execute_result"
    }
   ],
   "source": [
    "persona3 = df_string.iloc[similar3, :]\n",
    "persona3"
   ],
   "metadata": {
    "collapsed": false,
    "pycharm": {
     "name": "#%%\n"
    }
   }
  }
 ],
 "metadata": {
  "kernelspec": {
   "display_name": "Python 3",
   "language": "python",
   "name": "python3"
  },
  "language_info": {
   "codemirror_mode": {
    "name": "ipython",
    "version": 2
   },
   "file_extension": ".py",
   "mimetype": "text/x-python",
   "name": "python",
   "nbconvert_exporter": "python",
   "pygments_lexer": "ipython2",
   "version": "2.7.6"
  }
 },
 "nbformat": 4,
 "nbformat_minor": 0
}