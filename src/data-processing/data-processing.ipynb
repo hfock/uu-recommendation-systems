{
 "cells": [
  {
   "cell_type": "code",
   "execution_count": 2,
   "metadata": {
    "collapsed": true
   },
   "outputs": [],
   "source": [
    "import pandas as pd\n",
    "\n",
    "import csv_utils"
   ]
  },
  {
   "cell_type": "code",
   "execution_count": 98,
   "outputs": [],
   "source": [
    "df = pd.read_csv('./../data/BBC/bbc_data.csv', sep=';', index_col=0)\n",
    "#df = pd.read_csv('./../data/BBC/bbc_images.csv', sep=';', index_col=0)"
   ],
   "metadata": {
    "collapsed": false,
    "pycharm": {
     "name": "#%%\n"
    }
   }
  },
  {
   "cell_type": "code",
   "execution_count": 99,
   "outputs": [
    {
     "data": {
      "text/plain": "      index                                              title  \\\n0         0                                          BBC Proms   \n1         1                                               Port   \n2         2                 Sit Down, Stand Up with Greg James   \n3         3                        Ceiliúradh na Féile Pádraig   \n4         4                                    Songs of Praise   \n...     ...                                                ...   \n3798   3798  Murder Trial: The Disappearance of Margaret Fl...   \n3799   3799             Paul Merson: Football, Gambling and Me   \n3800   3800                               Avicii: True Stories   \n3801   3801                                        Heaven Made   \n3802   3802                                  The Wild Gardener   \n\n                                            description  \\\n0     Australian tenor Stuart Skelton is joined by L...   \n1     Previously unseen music from the series Port, ...   \n2     Tom Holland and Greg James cold call celebrity...   \n3     John Toal and Pauline Scanlon introduce an eve...   \n4     Claire McCollum explores Edinburgh and shares ...   \n...                                                 ...   \n3798  The trial continues as Cairney and Jones stand...   \n3799  Footballer Paul Merson sets out to understand ...   \n3800  Avicii: True Stories is Tim Bergling’s own sto...   \n3801  On the Isle of Wight, Brother Matthew, a monk ...   \n3802  Colin Stafford-Johnson turns his childhood gar...   \n\n                                                  image  \\\n0     https://ichef.bbci.co.uk/images/ic/{recipe}/p0...   \n1     https://ichef.bbci.co.uk/images/ic/{recipe}/p0...   \n2     https://ichef.bbci.co.uk/images/ic/{recipe}/p0...   \n3     https://ichef.bbci.co.uk/images/ic/{recipe}/p0...   \n4     https://ichef.bbci.co.uk/images/ic/{recipe}/p0...   \n...                                                 ...   \n3798  https://ichef.bbci.co.uk/images/ic/{recipe}/p0...   \n3799  https://ichef.bbci.co.uk/images/ic/{recipe}/p0...   \n3800  https://ichef.bbci.co.uk/images/ic/{recipe}/p0...   \n3801  https://ichef.bbci.co.uk/images/ic/{recipe}/p0...   \n3802  https://ichef.bbci.co.uk/images/ic/{recipe}/p0...   \n\n                                               keywords  \\\n0     BBC, iPlayer, TV, BBC Proms, 2021: Last Night ...   \n1           BBC, iPlayer, TV, Port, Series 5: Episode 4   \n2     BBC, iPlayer, TV, Sit Down, Stand Up with Greg...   \n3         BBC, iPlayer, TV, Ceiliúradh na Féile Pádraig   \n4          BBC, iPlayer, TV, Songs of Praise, Edinburgh   \n...                                                 ...   \n3798  BBC, iPlayer, TV, Murder Trial: The Disappeara...   \n3799  BBC, iPlayer, TV, Paul Merson: Football, Gambl...   \n3800             BBC, iPlayer, TV, Avicii: True Stories   \n3801  BBC, iPlayer, TV, Heaven Made, Series 1: Episo...   \n3802  BBC, iPlayer, TV, The Wild Gardener, Series 1:...   \n\n                                                 syno_s  \\\n0     Australian tenor Stuart Skelton is joined by L...   \n1     Previously unseen music from the series Port, ...   \n2     Tom Holland and Greg James cold call celebrity...   \n3     John Toal and Pauline Scanlon introduce an eve...   \n4     Claire McCollum explores Edinburgh and shares ...   \n...                                                 ...   \n3798  The trial continues as Cairney and Jones stand...   \n3799  Footballer Paul Merson sets out to understand ...   \n3800  Avicii: True Stories is Tim Bergling’s own sto...   \n3801  On the Isle of Wight, Brother Matthew, a monk ...   \n3802  Colin Stafford-Johnson turns his childhood gar...   \n\n                                                 syno_m  \\\n0     Australian tenor Stuart Skelton is joined by L...   \n1     Julie Fowlis a’ lìbhrigeadh ceòl bhon t-sreath...   \n2     Tom Holland and Greg James cold call celebrity...   \n3     John Toal and Pauline Scanlon introduce an eve...   \n4     Claire McCollum goes on a Christian heritage t...   \n...                                                 ...   \n3798  Second part of the documentary about the trial...   \n3799  Former footballer Paul Merson sets out to unde...   \n3800  Avicii: True Stories is Tim Bergling’s own sto...   \n3801  At Quarr Abbey on the Isle of Wight, Brother M...   \n3802  Wildlife cameraman Colin Stafford-Johnson retu...   \n\n                                                 syno_l       category  \\\n0     Katie Derham hosts continued live coverage fro...          Music   \n1     Bidh Druthag Bheag Eile a’ tarraing ri chèile ...          Music   \n2     Tom Holland and Greg James cold call celebrity...  Entertainment   \n3     John Toal and Pauline Scanlon introduce an eve...          Music   \n4     Claire McCollum explores Edinburgh and discove...          Music   \n...                                                 ...            ...   \n3798  As the murder trial that gripped a nation cont...    Documentary   \n3799  Over the past 35 years, former Arsenal and Eng...          Sport   \n3800  In 2006, Tim Bergling was just a regular teena...    Documentary   \n3801  The Benedictine nuns of Kylemore Abbey on the ...    Documentary   \n3802  Wildlife cameraman Colin Stafford-Johnson retu...         Nature   \n\n                               channel                         language  \\\n0                      bbc_radio_three                            False   \n1                             bbc_alba                            False   \n2                        bbc_radio_one                            False   \n3     bbc_two_northern_ireland_digital                            False   \n4                              bbc_one                            False   \n...                                ...                              ...   \n3798                           bbc_two  Contains some upsetting scenes.   \n3799                           bbc_one   Contains some strong language.   \n3800                         bbc_three        Contains strong language.   \n3801                           bbc_one                            False   \n3802                           bbc_two                            False   \n\n             release_date  duration_sec          topic  \n0         9pm 11 Sep 2021          5247          music  \n1              9 Jul 2020          1037          music  \n2             10 Feb 2022           611          music  \n3             17 Mar 2017          3538          music  \n4      1:15pm 20 Feb 2022          2044          music  \n...                   ...           ...            ...  \n3798      10pm 8 Jan 2020          3540  documentaries  \n3799      9pm 11 Oct 2021          3480  documentaries  \n3800          20 Apr 2019          5766  documentaries  \n3801  10:30am 13 Feb 2022          3244  documentaries  \n3802      8pm 26 Nov 2021          3540  documentaries  \n\n[3803 rows x 14 columns]",
      "text/html": "<div>\n<style scoped>\n    .dataframe tbody tr th:only-of-type {\n        vertical-align: middle;\n    }\n\n    .dataframe tbody tr th {\n        vertical-align: top;\n    }\n\n    .dataframe thead th {\n        text-align: right;\n    }\n</style>\n<table border=\"1\" class=\"dataframe\">\n  <thead>\n    <tr style=\"text-align: right;\">\n      <th></th>\n      <th>index</th>\n      <th>title</th>\n      <th>description</th>\n      <th>image</th>\n      <th>keywords</th>\n      <th>syno_s</th>\n      <th>syno_m</th>\n      <th>syno_l</th>\n      <th>category</th>\n      <th>channel</th>\n      <th>language</th>\n      <th>release_date</th>\n      <th>duration_sec</th>\n      <th>topic</th>\n    </tr>\n  </thead>\n  <tbody>\n    <tr>\n      <th>0</th>\n      <td>0</td>\n      <td>BBC Proms</td>\n      <td>Australian tenor Stuart Skelton is joined by L...</td>\n      <td>https://ichef.bbci.co.uk/images/ic/{recipe}/p0...</td>\n      <td>BBC, iPlayer, TV, BBC Proms, 2021: Last Night ...</td>\n      <td>Australian tenor Stuart Skelton is joined by L...</td>\n      <td>Australian tenor Stuart Skelton is joined by L...</td>\n      <td>Katie Derham hosts continued live coverage fro...</td>\n      <td>Music</td>\n      <td>bbc_radio_three</td>\n      <td>False</td>\n      <td>9pm 11 Sep 2021</td>\n      <td>5247</td>\n      <td>music</td>\n    </tr>\n    <tr>\n      <th>1</th>\n      <td>1</td>\n      <td>Port</td>\n      <td>Previously unseen music from the series Port, ...</td>\n      <td>https://ichef.bbci.co.uk/images/ic/{recipe}/p0...</td>\n      <td>BBC, iPlayer, TV, Port, Series 5: Episode 4</td>\n      <td>Previously unseen music from the series Port, ...</td>\n      <td>Julie Fowlis a’ lìbhrigeadh ceòl bhon t-sreath...</td>\n      <td>Bidh Druthag Bheag Eile a’ tarraing ri chèile ...</td>\n      <td>Music</td>\n      <td>bbc_alba</td>\n      <td>False</td>\n      <td>9 Jul 2020</td>\n      <td>1037</td>\n      <td>music</td>\n    </tr>\n    <tr>\n      <th>2</th>\n      <td>2</td>\n      <td>Sit Down, Stand Up with Greg James</td>\n      <td>Tom Holland and Greg James cold call celebrity...</td>\n      <td>https://ichef.bbci.co.uk/images/ic/{recipe}/p0...</td>\n      <td>BBC, iPlayer, TV, Sit Down, Stand Up with Greg...</td>\n      <td>Tom Holland and Greg James cold call celebrity...</td>\n      <td>Tom Holland and Greg James cold call celebrity...</td>\n      <td>Tom Holland and Greg James cold call celebrity...</td>\n      <td>Entertainment</td>\n      <td>bbc_radio_one</td>\n      <td>False</td>\n      <td>10 Feb 2022</td>\n      <td>611</td>\n      <td>music</td>\n    </tr>\n    <tr>\n      <th>3</th>\n      <td>3</td>\n      <td>Ceiliúradh na Féile Pádraig</td>\n      <td>John Toal and Pauline Scanlon introduce an eve...</td>\n      <td>https://ichef.bbci.co.uk/images/ic/{recipe}/p0...</td>\n      <td>BBC, iPlayer, TV, Ceiliúradh na Féile Pádraig</td>\n      <td>John Toal and Pauline Scanlon introduce an eve...</td>\n      <td>John Toal and Pauline Scanlon introduce an eve...</td>\n      <td>John Toal and Pauline Scanlon introduce an eve...</td>\n      <td>Music</td>\n      <td>bbc_two_northern_ireland_digital</td>\n      <td>False</td>\n      <td>17 Mar 2017</td>\n      <td>3538</td>\n      <td>music</td>\n    </tr>\n    <tr>\n      <th>4</th>\n      <td>4</td>\n      <td>Songs of Praise</td>\n      <td>Claire McCollum explores Edinburgh and shares ...</td>\n      <td>https://ichef.bbci.co.uk/images/ic/{recipe}/p0...</td>\n      <td>BBC, iPlayer, TV, Songs of Praise, Edinburgh</td>\n      <td>Claire McCollum explores Edinburgh and shares ...</td>\n      <td>Claire McCollum goes on a Christian heritage t...</td>\n      <td>Claire McCollum explores Edinburgh and discove...</td>\n      <td>Music</td>\n      <td>bbc_one</td>\n      <td>False</td>\n      <td>1:15pm 20 Feb 2022</td>\n      <td>2044</td>\n      <td>music</td>\n    </tr>\n    <tr>\n      <th>...</th>\n      <td>...</td>\n      <td>...</td>\n      <td>...</td>\n      <td>...</td>\n      <td>...</td>\n      <td>...</td>\n      <td>...</td>\n      <td>...</td>\n      <td>...</td>\n      <td>...</td>\n      <td>...</td>\n      <td>...</td>\n      <td>...</td>\n      <td>...</td>\n    </tr>\n    <tr>\n      <th>3798</th>\n      <td>3798</td>\n      <td>Murder Trial: The Disappearance of Margaret Fl...</td>\n      <td>The trial continues as Cairney and Jones stand...</td>\n      <td>https://ichef.bbci.co.uk/images/ic/{recipe}/p0...</td>\n      <td>BBC, iPlayer, TV, Murder Trial: The Disappeara...</td>\n      <td>The trial continues as Cairney and Jones stand...</td>\n      <td>Second part of the documentary about the trial...</td>\n      <td>As the murder trial that gripped a nation cont...</td>\n      <td>Documentary</td>\n      <td>bbc_two</td>\n      <td>Contains some upsetting scenes.</td>\n      <td>10pm 8 Jan 2020</td>\n      <td>3540</td>\n      <td>documentaries</td>\n    </tr>\n    <tr>\n      <th>3799</th>\n      <td>3799</td>\n      <td>Paul Merson: Football, Gambling and Me</td>\n      <td>Footballer Paul Merson sets out to understand ...</td>\n      <td>https://ichef.bbci.co.uk/images/ic/{recipe}/p0...</td>\n      <td>BBC, iPlayer, TV, Paul Merson: Football, Gambl...</td>\n      <td>Footballer Paul Merson sets out to understand ...</td>\n      <td>Former footballer Paul Merson sets out to unde...</td>\n      <td>Over the past 35 years, former Arsenal and Eng...</td>\n      <td>Sport</td>\n      <td>bbc_one</td>\n      <td>Contains some strong language.</td>\n      <td>9pm 11 Oct 2021</td>\n      <td>3480</td>\n      <td>documentaries</td>\n    </tr>\n    <tr>\n      <th>3800</th>\n      <td>3800</td>\n      <td>Avicii: True Stories</td>\n      <td>Avicii: True Stories is Tim Bergling’s own sto...</td>\n      <td>https://ichef.bbci.co.uk/images/ic/{recipe}/p0...</td>\n      <td>BBC, iPlayer, TV, Avicii: True Stories</td>\n      <td>Avicii: True Stories is Tim Bergling’s own sto...</td>\n      <td>Avicii: True Stories is Tim Bergling’s own sto...</td>\n      <td>In 2006, Tim Bergling was just a regular teena...</td>\n      <td>Documentary</td>\n      <td>bbc_three</td>\n      <td>Contains strong language.</td>\n      <td>20 Apr 2019</td>\n      <td>5766</td>\n      <td>documentaries</td>\n    </tr>\n    <tr>\n      <th>3801</th>\n      <td>3801</td>\n      <td>Heaven Made</td>\n      <td>On the Isle of Wight, Brother Matthew, a monk ...</td>\n      <td>https://ichef.bbci.co.uk/images/ic/{recipe}/p0...</td>\n      <td>BBC, iPlayer, TV, Heaven Made, Series 1: Episo...</td>\n      <td>On the Isle of Wight, Brother Matthew, a monk ...</td>\n      <td>At Quarr Abbey on the Isle of Wight, Brother M...</td>\n      <td>The Benedictine nuns of Kylemore Abbey on the ...</td>\n      <td>Documentary</td>\n      <td>bbc_one</td>\n      <td>False</td>\n      <td>10:30am 13 Feb 2022</td>\n      <td>3244</td>\n      <td>documentaries</td>\n    </tr>\n    <tr>\n      <th>3802</th>\n      <td>3802</td>\n      <td>The Wild Gardener</td>\n      <td>Colin Stafford-Johnson turns his childhood gar...</td>\n      <td>https://ichef.bbci.co.uk/images/ic/{recipe}/p0...</td>\n      <td>BBC, iPlayer, TV, The Wild Gardener, Series 1:...</td>\n      <td>Colin Stafford-Johnson turns his childhood gar...</td>\n      <td>Wildlife cameraman Colin Stafford-Johnson retu...</td>\n      <td>Wildlife cameraman Colin Stafford-Johnson retu...</td>\n      <td>Nature</td>\n      <td>bbc_two</td>\n      <td>False</td>\n      <td>8pm 26 Nov 2021</td>\n      <td>3540</td>\n      <td>documentaries</td>\n    </tr>\n  </tbody>\n</table>\n<p>3803 rows × 14 columns</p>\n</div>"
     },
     "execution_count": 99,
     "metadata": {},
     "output_type": "execute_result"
    }
   ],
   "source": [
    "df"
   ],
   "metadata": {
    "collapsed": false,
    "pycharm": {
     "name": "#%%\n"
    }
   }
  },
  {
   "cell_type": "code",
   "execution_count": 126,
   "outputs": [],
   "source": [
    "# columns = ['index', 'title', 'description', 'image', 'keywords', 'syno_s', 'syno_m', 'syno_l', 'category', 'channel', 'language', 'release_date', 'duration_sec', 'topic']\n",
    "#\n",
    "# df.columns = columns"
   ],
   "metadata": {
    "collapsed": false,
    "pycharm": {
     "name": "#%%\n"
    }
   }
  },
  {
   "cell_type": "markdown",
   "source": [
    "## Image Processing"
   ],
   "metadata": {
    "collapsed": false
   }
  },
  {
   "cell_type": "code",
   "execution_count": 127,
   "outputs": [],
   "source": [
    "s = '192x108'\n",
    "m = '288x162'\n",
    "l = '352x198'\n",
    "def generate_img(df_inp, size):\n",
    "    return [image.replace('{recipe}', size) for image in df_inp['image']]\n",
    "# df['image_l'] = generate_img(df, l)"
   ],
   "metadata": {
    "collapsed": false,
    "pycharm": {
     "name": "#%%\n"
    }
   }
  },
  {
   "cell_type": "code",
   "execution_count": 152,
   "outputs": [],
   "source": [
    "df_img = df.loc[:, ['index', 'image', 'image_s', 'image_m', 'image_l']]\n",
    "# df_img.to_csv('../data/BBC/bbc_images.csv', sep=';')"
   ],
   "metadata": {
    "collapsed": false,
    "pycharm": {
     "name": "#%%\n"
    }
   }
  },
  {
   "cell_type": "markdown",
   "source": [
    "## Synopses clearing"
   ],
   "metadata": {
    "collapsed": false,
    "pycharm": {
     "name": "#%% md\n"
    }
   }
  },
  {
   "cell_type": "code",
   "execution_count": 134,
   "outputs": [
    {
     "data": {
      "text/plain": "0"
     },
     "execution_count": 134,
     "metadata": {},
     "output_type": "execute_result"
    }
   ],
   "source": [
    "len(df[df['syno_s'].isna()])"
   ],
   "metadata": {
    "collapsed": false,
    "pycharm": {
     "name": "#%%\n"
    }
   }
  },
  {
   "cell_type": "code",
   "execution_count": 145,
   "outputs": [
    {
     "data": {
      "text/plain": "0"
     },
     "execution_count": 145,
     "metadata": {},
     "output_type": "execute_result"
    }
   ],
   "source": [
    "len(df[df['syno_m'].isna()])"
   ],
   "metadata": {
    "collapsed": false,
    "pycharm": {
     "name": "#%%\n"
    }
   }
  },
  {
   "cell_type": "code",
   "execution_count": 144,
   "outputs": [
    {
     "data": {
      "text/plain": "0"
     },
     "execution_count": 144,
     "metadata": {},
     "output_type": "execute_result"
    }
   ],
   "source": [
    "len(df[df['syno_l'].isna()])"
   ],
   "metadata": {
    "collapsed": false,
    "pycharm": {
     "name": "#%%\n"
    }
   }
  },
  {
   "cell_type": "code",
   "execution_count": 137,
   "outputs": [],
   "source": [
    "def fill_column(df_input, origin_col, gap_filler_col):\n",
    "    for index, df_entry in df_input.iterrows():\n",
    "        # checks if the value is the same, if not it is a NaN\n",
    "        if not df_entry[origin_col] == df_entry[origin_col]:\n",
    "            df_input.loc[index, [origin_col]] = df_entry[gap_filler_col]"
   ],
   "metadata": {
    "collapsed": false,
    "pycharm": {
     "name": "#%%\n"
    }
   }
  },
  {
   "cell_type": "code",
   "execution_count": 138,
   "outputs": [],
   "source": [
    "# Substitute all nan syno_m with the syno_s values\n",
    "# fill_column(df, origin_col='syno_m', gap_filler_col='syno_s')\n",
    "# Substitute all nan syno_l with the syno_m values\n",
    "# fill_column(df, origin_col='syno_l', gap_filler_col='syno_m')"
   ],
   "metadata": {
    "collapsed": false,
    "pycharm": {
     "name": "#%%\n"
    }
   }
  },
  {
   "cell_type": "code",
   "execution_count": 18,
   "outputs": [],
   "source": [
    "# df.to_csv('../data/BBC/bbc_data.csv', sep=';')"
   ],
   "metadata": {
    "collapsed": false,
    "pycharm": {
     "name": "#%%\n"
    }
   }
  },
  {
   "cell_type": "markdown",
   "source": [
    "## Remove duplicates"
   ],
   "metadata": {
    "collapsed": false
   }
  },
  {
   "cell_type": "code",
   "execution_count": 100,
   "outputs": [
    {
     "data": {
      "text/plain": "      index                   title  \\\n1956   1956  A Life in Ten Pictures   \n2836   2836  A Life in Ten Pictures   \n3486   3486  A Life in Ten Pictures   \n\n                                            description  \\\n1956  Ten pictures, from iconic shots to private sna...   \n2836  Ten pictures, from iconic shots to private sna...   \n3486  Ten pictures, from iconic shots to private sna...   \n\n                                                  image  \\\n1956  https://ichef.bbci.co.uk/images/ic/{recipe}/p0...   \n2836  https://ichef.bbci.co.uk/images/ic/{recipe}/p0...   \n3486  https://ichef.bbci.co.uk/images/ic/{recipe}/p0...   \n\n                                               keywords  \\\n1956  BBC, iPlayer, TV, A Life in Ten Pictures, Seri...   \n2836  BBC, iPlayer, TV, A Life in Ten Pictures, Seri...   \n3486  BBC, iPlayer, TV, A Life in Ten Pictures, Seri...   \n\n                                                 syno_s  \\\n1956  Ten pictures, from iconic shots to private sna...   \n2836  Ten pictures, from iconic shots to private sna...   \n3486  Ten pictures, from iconic shots to private sna...   \n\n                                                 syno_m  \\\n1956  Amy Winehouse’s image is known around the worl...   \n2836  Amy Winehouse’s image is known around the worl...   \n3486  Amy Winehouse’s image is known around the worl...   \n\n                                                 syno_l category  channel  \\\n1956  Amy Winehouse’s image is known around the worl...  History  bbc_two   \n2836  Amy Winehouse’s image is known around the worl...  History  bbc_two   \n3486  Amy Winehouse’s image is known around the worl...  History  bbc_two   \n\n                       language     release_date  duration_sec          topic  \n1956  Contains strong language.  9pm 11 Sep 2021          3550         signed  \n2836  Contains strong language.  9pm 11 Sep 2021          3550        history  \n3486  Contains strong language.  9pm 11 Sep 2021          3550  documentaries  ",
      "text/html": "<div>\n<style scoped>\n    .dataframe tbody tr th:only-of-type {\n        vertical-align: middle;\n    }\n\n    .dataframe tbody tr th {\n        vertical-align: top;\n    }\n\n    .dataframe thead th {\n        text-align: right;\n    }\n</style>\n<table border=\"1\" class=\"dataframe\">\n  <thead>\n    <tr style=\"text-align: right;\">\n      <th></th>\n      <th>index</th>\n      <th>title</th>\n      <th>description</th>\n      <th>image</th>\n      <th>keywords</th>\n      <th>syno_s</th>\n      <th>syno_m</th>\n      <th>syno_l</th>\n      <th>category</th>\n      <th>channel</th>\n      <th>language</th>\n      <th>release_date</th>\n      <th>duration_sec</th>\n      <th>topic</th>\n    </tr>\n  </thead>\n  <tbody>\n    <tr>\n      <th>1956</th>\n      <td>1956</td>\n      <td>A Life in Ten Pictures</td>\n      <td>Ten pictures, from iconic shots to private sna...</td>\n      <td>https://ichef.bbci.co.uk/images/ic/{recipe}/p0...</td>\n      <td>BBC, iPlayer, TV, A Life in Ten Pictures, Seri...</td>\n      <td>Ten pictures, from iconic shots to private sna...</td>\n      <td>Amy Winehouse’s image is known around the worl...</td>\n      <td>Amy Winehouse’s image is known around the worl...</td>\n      <td>History</td>\n      <td>bbc_two</td>\n      <td>Contains strong language.</td>\n      <td>9pm 11 Sep 2021</td>\n      <td>3550</td>\n      <td>signed</td>\n    </tr>\n    <tr>\n      <th>2836</th>\n      <td>2836</td>\n      <td>A Life in Ten Pictures</td>\n      <td>Ten pictures, from iconic shots to private sna...</td>\n      <td>https://ichef.bbci.co.uk/images/ic/{recipe}/p0...</td>\n      <td>BBC, iPlayer, TV, A Life in Ten Pictures, Seri...</td>\n      <td>Ten pictures, from iconic shots to private sna...</td>\n      <td>Amy Winehouse’s image is known around the worl...</td>\n      <td>Amy Winehouse’s image is known around the worl...</td>\n      <td>History</td>\n      <td>bbc_two</td>\n      <td>Contains strong language.</td>\n      <td>9pm 11 Sep 2021</td>\n      <td>3550</td>\n      <td>history</td>\n    </tr>\n    <tr>\n      <th>3486</th>\n      <td>3486</td>\n      <td>A Life in Ten Pictures</td>\n      <td>Ten pictures, from iconic shots to private sna...</td>\n      <td>https://ichef.bbci.co.uk/images/ic/{recipe}/p0...</td>\n      <td>BBC, iPlayer, TV, A Life in Ten Pictures, Seri...</td>\n      <td>Ten pictures, from iconic shots to private sna...</td>\n      <td>Amy Winehouse’s image is known around the worl...</td>\n      <td>Amy Winehouse’s image is known around the worl...</td>\n      <td>History</td>\n      <td>bbc_two</td>\n      <td>Contains strong language.</td>\n      <td>9pm 11 Sep 2021</td>\n      <td>3550</td>\n      <td>documentaries</td>\n    </tr>\n  </tbody>\n</table>\n</div>"
     },
     "execution_count": 100,
     "metadata": {},
     "output_type": "execute_result"
    }
   ],
   "source": [
    "df[df['title'] == 'A Life in Ten Pictures']"
   ],
   "metadata": {
    "collapsed": false,
    "pycharm": {
     "name": "#%%\n"
    }
   }
  },
  {
   "cell_type": "code",
   "execution_count": 101,
   "outputs": [],
   "source": [],
   "metadata": {
    "collapsed": false,
    "pycharm": {
     "name": "#%%\n"
    }
   }
  },
  {
   "cell_type": "code",
   "execution_count": 102,
   "outputs": [],
   "source": [
    "grouped_by_title = df.groupby('title')\n",
    "def remove_duplicates_by_title(grouped_by_title):\n",
    "    for name, group in grouped_by_title:\n",
    "        if len(group) == 1:\n",
    "             continue\n",
    "\n",
    "        indeces = []\n",
    "        topics = []\n",
    "\n",
    "        for i, value in group.iterrows():\n",
    "            test = value['title']\n",
    "            topics.append(value['topic'])\n",
    "            indeces.append(value['index'])\n",
    "\n",
    "        df.loc[indeces[0], 'topic'] = ', '.join(topics)\n",
    "        df = df.drop(labels=indeces[1:], axis=0)"
   ],
   "metadata": {
    "collapsed": false,
    "pycharm": {
     "name": "#%%\n"
    }
   }
  },
  {
   "cell_type": "code",
   "execution_count": 103,
   "outputs": [
    {
     "data": {
      "text/plain": "      index                   title  \\\n1956   1956  A Life in Ten Pictures   \n\n                                            description  \\\n1956  Ten pictures, from iconic shots to private sna...   \n\n                                                  image  \\\n1956  https://ichef.bbci.co.uk/images/ic/{recipe}/p0...   \n\n                                               keywords  \\\n1956  BBC, iPlayer, TV, A Life in Ten Pictures, Seri...   \n\n                                                 syno_s  \\\n1956  Ten pictures, from iconic shots to private sna...   \n\n                                                 syno_m  \\\n1956  Amy Winehouse’s image is known around the worl...   \n\n                                                 syno_l category  channel  \\\n1956  Amy Winehouse’s image is known around the worl...  History  bbc_two   \n\n                       language     release_date  duration_sec  \\\n1956  Contains strong language.  9pm 11 Sep 2021          3550   \n\n                               topic  \n1956  signed, history, documentaries  ",
      "text/html": "<div>\n<style scoped>\n    .dataframe tbody tr th:only-of-type {\n        vertical-align: middle;\n    }\n\n    .dataframe tbody tr th {\n        vertical-align: top;\n    }\n\n    .dataframe thead th {\n        text-align: right;\n    }\n</style>\n<table border=\"1\" class=\"dataframe\">\n  <thead>\n    <tr style=\"text-align: right;\">\n      <th></th>\n      <th>index</th>\n      <th>title</th>\n      <th>description</th>\n      <th>image</th>\n      <th>keywords</th>\n      <th>syno_s</th>\n      <th>syno_m</th>\n      <th>syno_l</th>\n      <th>category</th>\n      <th>channel</th>\n      <th>language</th>\n      <th>release_date</th>\n      <th>duration_sec</th>\n      <th>topic</th>\n    </tr>\n  </thead>\n  <tbody>\n    <tr>\n      <th>1956</th>\n      <td>1956</td>\n      <td>A Life in Ten Pictures</td>\n      <td>Ten pictures, from iconic shots to private sna...</td>\n      <td>https://ichef.bbci.co.uk/images/ic/{recipe}/p0...</td>\n      <td>BBC, iPlayer, TV, A Life in Ten Pictures, Seri...</td>\n      <td>Ten pictures, from iconic shots to private sna...</td>\n      <td>Amy Winehouse’s image is known around the worl...</td>\n      <td>Amy Winehouse’s image is known around the worl...</td>\n      <td>History</td>\n      <td>bbc_two</td>\n      <td>Contains strong language.</td>\n      <td>9pm 11 Sep 2021</td>\n      <td>3550</td>\n      <td>signed, history, documentaries</td>\n    </tr>\n  </tbody>\n</table>\n</div>"
     },
     "execution_count": 103,
     "metadata": {},
     "output_type": "execute_result"
    }
   ],
   "source": [
    "df[df['title'] == 'A Life in Ten Pictures']"
   ],
   "metadata": {
    "collapsed": false,
    "pycharm": {
     "name": "#%%\n"
    }
   }
  },
  {
   "cell_type": "code",
   "execution_count": 111,
   "outputs": [],
   "source": [
    "#df['topic'] = df['topic'].apply(lambda x: x.split(', '))"
   ],
   "metadata": {
    "collapsed": false,
    "pycharm": {
     "name": "#%%\n"
    }
   }
  },
  {
   "cell_type": "code",
   "execution_count": 113,
   "outputs": [
    {
     "data": {
      "text/plain": "      index                               title  \\\n0         0                           BBC Proms   \n1         1                                Port   \n2         2  Sit Down, Stand Up with Greg James   \n3         3         Ceiliúradh na Féile Pádraig   \n4         4                     Songs of Praise   \n...     ...                                 ...   \n3777   3777           Models: Street to Catwalk   \n3789   3789                   Death On The I-95   \n3793   3793        Do Black Lives Still Matter?   \n3797   3797                        Ar An Sliabh   \n3800   3800                Avicii: True Stories   \n\n                                            description  \\\n0     Australian tenor Stuart Skelton is joined by L...   \n1     Previously unseen music from the series Port, ...   \n2     Tom Holland and Greg James cold call celebrity...   \n3     John Toal and Pauline Scanlon introduce an eve...   \n4     Claire McCollum explores Edinburgh and shares ...   \n...                                                 ...   \n3777  Kyra’s late arrival puts her modelling career ...   \n3789  Returning to the US to find out what happened ...   \n3793  Grime artist Saskilla asks, can the music indu...   \n3797  Paul packs up to return to his native Armagh a...   \n3800  Avicii: True Stories is Tim Bergling’s own sto...   \n\n                                                  image  \\\n0     https://ichef.bbci.co.uk/images/ic/{recipe}/p0...   \n1     https://ichef.bbci.co.uk/images/ic/{recipe}/p0...   \n2     https://ichef.bbci.co.uk/images/ic/{recipe}/p0...   \n3     https://ichef.bbci.co.uk/images/ic/{recipe}/p0...   \n4     https://ichef.bbci.co.uk/images/ic/{recipe}/p0...   \n...                                                 ...   \n3777  https://ichef.bbci.co.uk/images/ic/{recipe}/p0...   \n3789  https://ichef.bbci.co.uk/images/ic/{recipe}/p0...   \n3793  https://ichef.bbci.co.uk/images/ic/{recipe}/p0...   \n3797  https://ichef.bbci.co.uk/images/ic/{recipe}/p0...   \n3800  https://ichef.bbci.co.uk/images/ic/{recipe}/p0...   \n\n                                               keywords  \\\n0     BBC, iPlayer, TV, BBC Proms, 2021: Last Night ...   \n1           BBC, iPlayer, TV, Port, Series 5: Episode 4   \n2     BBC, iPlayer, TV, Sit Down, Stand Up with Greg...   \n3         BBC, iPlayer, TV, Ceiliúradh na Féile Pádraig   \n4          BBC, iPlayer, TV, Songs of Praise, Edinburgh   \n...                                                 ...   \n3777  BBC, iPlayer, TV, Models: Street to Catwalk, S...   \n3789                BBC, iPlayer, TV, Death On The I-95   \n3793  BBC, iPlayer, TV, Do Black Lives Still Matter?...   \n3797  BBC, iPlayer, TV, Ar An Sliabh, Series 1: Epis...   \n3800             BBC, iPlayer, TV, Avicii: True Stories   \n\n                                                 syno_s  \\\n0     Australian tenor Stuart Skelton is joined by L...   \n1     Previously unseen music from the series Port, ...   \n2     Tom Holland and Greg James cold call celebrity...   \n3     John Toal and Pauline Scanlon introduce an eve...   \n4     Claire McCollum explores Edinburgh and shares ...   \n...                                                 ...   \n3777  Kyra’s late arrival puts her modelling career ...   \n3789  Returning to the US to find out what happened ...   \n3793  Grime artist Saskilla asks, can the music indu...   \n3797  Paul packs up to return to his native Armagh a...   \n3800  Avicii: True Stories is Tim Bergling’s own sto...   \n\n                                                 syno_m  \\\n0     Australian tenor Stuart Skelton is joined by L...   \n1     Julie Fowlis a’ lìbhrigeadh ceòl bhon t-sreath...   \n2     Tom Holland and Greg James cold call celebrity...   \n3     John Toal and Pauline Scanlon introduce an eve...   \n4     Claire McCollum goes on a Christian heritage t...   \n...                                                 ...   \n3777  Kyra jeopardises her modelling career by turni...   \n3789  Following a report on the growing problem of o...   \n3793  The music industry pledged millions in support...   \n3797  Paul packs up to return to his native Armagh a...   \n3800  Avicii: True Stories is Tim Bergling’s own sto...   \n\n                                                 syno_l       category  \\\n0     Katie Derham hosts continued live coverage fro...          Music   \n1     Bidh Druthag Bheag Eile a’ tarraing ri chèile ...          Music   \n2     Tom Holland and Greg James cold call celebrity...  Entertainment   \n3     John Toal and Pauline Scanlon introduce an eve...          Music   \n4     Claire McCollum explores Edinburgh and discove...          Music   \n...                                                 ...            ...   \n3777  How will Kyra cope after a train malfunction m...    Documentary   \n3789  Drug overdose is now the main cause of death f...    Documentary   \n3793  The music industry reacted with a surge of out...    Documentary   \n3797  I Sliabh Eachtaí, tá Cérill ag déanamh réidh d...    Documentary   \n3800  In 2006, Tim Bergling was just a regular teena...    Documentary   \n\n                               channel  \\\n0                      bbc_radio_three   \n1                             bbc_alba   \n2                        bbc_radio_one   \n3     bbc_two_northern_ireland_digital   \n4                              bbc_one   \n...                                ...   \n3777                         bbc_three   \n3789                         bbc_three   \n3793                         bbc_three   \n3797                       bbc_webonly   \n3800                         bbc_three   \n\n                                               language        release_date  \\\n0                                                 False     9pm 11 Sep 2021   \n1                                                 False          9 Jul 2020   \n2                                                 False         10 Feb 2022   \n3                                                 False         17 Mar 2017   \n4                                                 False  1:15pm 20 Feb 2022   \n...                                                 ...                 ...   \n3777  Contains some strong language and some upsetti...          8 Aug 2021   \n3789  Contains some strong language and upsetting sc...         24 Oct 2018   \n3793                                              False         31 May 2021   \n3797                                              False         22 Nov 2021   \n3800                          Contains strong language.         20 Apr 2019   \n\n      duration_sec                       topic  \n0             5247  [music, from-the-archives]  \n1             1037                     [music]  \n2              611      [music, entertainment]  \n3             3538                     [music]  \n4             2044          [music, lifestyle]  \n...            ...                         ...  \n3777          1843             [documentaries]  \n3789          3426             [documentaries]  \n3793          1524             [documentaries]  \n3797          1740             [documentaries]  \n3800          5766             [documentaries]  \n\n[2326 rows x 14 columns]",
      "text/html": "<div>\n<style scoped>\n    .dataframe tbody tr th:only-of-type {\n        vertical-align: middle;\n    }\n\n    .dataframe tbody tr th {\n        vertical-align: top;\n    }\n\n    .dataframe thead th {\n        text-align: right;\n    }\n</style>\n<table border=\"1\" class=\"dataframe\">\n  <thead>\n    <tr style=\"text-align: right;\">\n      <th></th>\n      <th>index</th>\n      <th>title</th>\n      <th>description</th>\n      <th>image</th>\n      <th>keywords</th>\n      <th>syno_s</th>\n      <th>syno_m</th>\n      <th>syno_l</th>\n      <th>category</th>\n      <th>channel</th>\n      <th>language</th>\n      <th>release_date</th>\n      <th>duration_sec</th>\n      <th>topic</th>\n    </tr>\n  </thead>\n  <tbody>\n    <tr>\n      <th>0</th>\n      <td>0</td>\n      <td>BBC Proms</td>\n      <td>Australian tenor Stuart Skelton is joined by L...</td>\n      <td>https://ichef.bbci.co.uk/images/ic/{recipe}/p0...</td>\n      <td>BBC, iPlayer, TV, BBC Proms, 2021: Last Night ...</td>\n      <td>Australian tenor Stuart Skelton is joined by L...</td>\n      <td>Australian tenor Stuart Skelton is joined by L...</td>\n      <td>Katie Derham hosts continued live coverage fro...</td>\n      <td>Music</td>\n      <td>bbc_radio_three</td>\n      <td>False</td>\n      <td>9pm 11 Sep 2021</td>\n      <td>5247</td>\n      <td>[music, from-the-archives]</td>\n    </tr>\n    <tr>\n      <th>1</th>\n      <td>1</td>\n      <td>Port</td>\n      <td>Previously unseen music from the series Port, ...</td>\n      <td>https://ichef.bbci.co.uk/images/ic/{recipe}/p0...</td>\n      <td>BBC, iPlayer, TV, Port, Series 5: Episode 4</td>\n      <td>Previously unseen music from the series Port, ...</td>\n      <td>Julie Fowlis a’ lìbhrigeadh ceòl bhon t-sreath...</td>\n      <td>Bidh Druthag Bheag Eile a’ tarraing ri chèile ...</td>\n      <td>Music</td>\n      <td>bbc_alba</td>\n      <td>False</td>\n      <td>9 Jul 2020</td>\n      <td>1037</td>\n      <td>[music]</td>\n    </tr>\n    <tr>\n      <th>2</th>\n      <td>2</td>\n      <td>Sit Down, Stand Up with Greg James</td>\n      <td>Tom Holland and Greg James cold call celebrity...</td>\n      <td>https://ichef.bbci.co.uk/images/ic/{recipe}/p0...</td>\n      <td>BBC, iPlayer, TV, Sit Down, Stand Up with Greg...</td>\n      <td>Tom Holland and Greg James cold call celebrity...</td>\n      <td>Tom Holland and Greg James cold call celebrity...</td>\n      <td>Tom Holland and Greg James cold call celebrity...</td>\n      <td>Entertainment</td>\n      <td>bbc_radio_one</td>\n      <td>False</td>\n      <td>10 Feb 2022</td>\n      <td>611</td>\n      <td>[music, entertainment]</td>\n    </tr>\n    <tr>\n      <th>3</th>\n      <td>3</td>\n      <td>Ceiliúradh na Féile Pádraig</td>\n      <td>John Toal and Pauline Scanlon introduce an eve...</td>\n      <td>https://ichef.bbci.co.uk/images/ic/{recipe}/p0...</td>\n      <td>BBC, iPlayer, TV, Ceiliúradh na Féile Pádraig</td>\n      <td>John Toal and Pauline Scanlon introduce an eve...</td>\n      <td>John Toal and Pauline Scanlon introduce an eve...</td>\n      <td>John Toal and Pauline Scanlon introduce an eve...</td>\n      <td>Music</td>\n      <td>bbc_two_northern_ireland_digital</td>\n      <td>False</td>\n      <td>17 Mar 2017</td>\n      <td>3538</td>\n      <td>[music]</td>\n    </tr>\n    <tr>\n      <th>4</th>\n      <td>4</td>\n      <td>Songs of Praise</td>\n      <td>Claire McCollum explores Edinburgh and shares ...</td>\n      <td>https://ichef.bbci.co.uk/images/ic/{recipe}/p0...</td>\n      <td>BBC, iPlayer, TV, Songs of Praise, Edinburgh</td>\n      <td>Claire McCollum explores Edinburgh and shares ...</td>\n      <td>Claire McCollum goes on a Christian heritage t...</td>\n      <td>Claire McCollum explores Edinburgh and discove...</td>\n      <td>Music</td>\n      <td>bbc_one</td>\n      <td>False</td>\n      <td>1:15pm 20 Feb 2022</td>\n      <td>2044</td>\n      <td>[music, lifestyle]</td>\n    </tr>\n    <tr>\n      <th>...</th>\n      <td>...</td>\n      <td>...</td>\n      <td>...</td>\n      <td>...</td>\n      <td>...</td>\n      <td>...</td>\n      <td>...</td>\n      <td>...</td>\n      <td>...</td>\n      <td>...</td>\n      <td>...</td>\n      <td>...</td>\n      <td>...</td>\n      <td>...</td>\n    </tr>\n    <tr>\n      <th>3777</th>\n      <td>3777</td>\n      <td>Models: Street to Catwalk</td>\n      <td>Kyra’s late arrival puts her modelling career ...</td>\n      <td>https://ichef.bbci.co.uk/images/ic/{recipe}/p0...</td>\n      <td>BBC, iPlayer, TV, Models: Street to Catwalk, S...</td>\n      <td>Kyra’s late arrival puts her modelling career ...</td>\n      <td>Kyra jeopardises her modelling career by turni...</td>\n      <td>How will Kyra cope after a train malfunction m...</td>\n      <td>Documentary</td>\n      <td>bbc_three</td>\n      <td>Contains some strong language and some upsetti...</td>\n      <td>8 Aug 2021</td>\n      <td>1843</td>\n      <td>[documentaries]</td>\n    </tr>\n    <tr>\n      <th>3789</th>\n      <td>3789</td>\n      <td>Death On The I-95</td>\n      <td>Returning to the US to find out what happened ...</td>\n      <td>https://ichef.bbci.co.uk/images/ic/{recipe}/p0...</td>\n      <td>BBC, iPlayer, TV, Death On The I-95</td>\n      <td>Returning to the US to find out what happened ...</td>\n      <td>Following a report on the growing problem of o...</td>\n      <td>Drug overdose is now the main cause of death f...</td>\n      <td>Documentary</td>\n      <td>bbc_three</td>\n      <td>Contains some strong language and upsetting sc...</td>\n      <td>24 Oct 2018</td>\n      <td>3426</td>\n      <td>[documentaries]</td>\n    </tr>\n    <tr>\n      <th>3793</th>\n      <td>3793</td>\n      <td>Do Black Lives Still Matter?</td>\n      <td>Grime artist Saskilla asks, can the music indu...</td>\n      <td>https://ichef.bbci.co.uk/images/ic/{recipe}/p0...</td>\n      <td>BBC, iPlayer, TV, Do Black Lives Still Matter?...</td>\n      <td>Grime artist Saskilla asks, can the music indu...</td>\n      <td>The music industry pledged millions in support...</td>\n      <td>The music industry reacted with a surge of out...</td>\n      <td>Documentary</td>\n      <td>bbc_three</td>\n      <td>False</td>\n      <td>31 May 2021</td>\n      <td>1524</td>\n      <td>[documentaries]</td>\n    </tr>\n    <tr>\n      <th>3797</th>\n      <td>3797</td>\n      <td>Ar An Sliabh</td>\n      <td>Paul packs up to return to his native Armagh a...</td>\n      <td>https://ichef.bbci.co.uk/images/ic/{recipe}/p0...</td>\n      <td>BBC, iPlayer, TV, Ar An Sliabh, Series 1: Epis...</td>\n      <td>Paul packs up to return to his native Armagh a...</td>\n      <td>Paul packs up to return to his native Armagh a...</td>\n      <td>I Sliabh Eachtaí, tá Cérill ag déanamh réidh d...</td>\n      <td>Documentary</td>\n      <td>bbc_webonly</td>\n      <td>False</td>\n      <td>22 Nov 2021</td>\n      <td>1740</td>\n      <td>[documentaries]</td>\n    </tr>\n    <tr>\n      <th>3800</th>\n      <td>3800</td>\n      <td>Avicii: True Stories</td>\n      <td>Avicii: True Stories is Tim Bergling’s own sto...</td>\n      <td>https://ichef.bbci.co.uk/images/ic/{recipe}/p0...</td>\n      <td>BBC, iPlayer, TV, Avicii: True Stories</td>\n      <td>Avicii: True Stories is Tim Bergling’s own sto...</td>\n      <td>Avicii: True Stories is Tim Bergling’s own sto...</td>\n      <td>In 2006, Tim Bergling was just a regular teena...</td>\n      <td>Documentary</td>\n      <td>bbc_three</td>\n      <td>Contains strong language.</td>\n      <td>20 Apr 2019</td>\n      <td>5766</td>\n      <td>[documentaries]</td>\n    </tr>\n  </tbody>\n</table>\n<p>2326 rows × 14 columns</p>\n</div>"
     },
     "execution_count": 113,
     "metadata": {},
     "output_type": "execute_result"
    }
   ],
   "source": [
    "df"
   ],
   "metadata": {
    "collapsed": false,
    "pycharm": {
     "name": "#%%\n"
    }
   }
  },
  {
   "cell_type": "code",
   "execution_count": 114,
   "outputs": [],
   "source": [
    "df.to_csv('../data/BBC/bbc_data.csv', sep=';')"
   ],
   "metadata": {
    "collapsed": false,
    "pycharm": {
     "name": "#%%\n"
    }
   }
  },
  {
   "cell_type": "markdown",
   "source": [
    "## Genre and Keyword extraction"
   ],
   "metadata": {
    "collapsed": false
   }
  },
  {
   "cell_type": "code",
   "execution_count": 105,
   "outputs": [
    {
     "data": {
      "text/plain": "{'Arts',\n 'Beauty',\n 'CBBC',\n 'CBeebies',\n 'Comedy',\n 'Comedy Drama',\n 'Crime Drama',\n 'Current Affairs',\n 'Dating',\n 'Documentary',\n 'Documentary Film',\n 'Drama',\n 'Entertainment',\n 'Fantasy',\n 'Film',\n 'Film - Action',\n 'Film - Adventure',\n 'Film - Biopic',\n 'Film - Comedy',\n 'Film - Crime',\n 'Film - Drama',\n 'Film - Family',\n 'Film - Horror',\n 'Film - Musical',\n 'Film - Period',\n 'Film - Rom-Com',\n 'Film - Romance',\n 'Film - Sci-Fi',\n 'Film - Thriller',\n 'Film - War',\n 'Film - Western',\n 'Food',\n 'History',\n 'Lifestyle',\n 'Music',\n 'Nature',\n 'News',\n 'Period Drama',\n 'Reality',\n 'Rom-com',\n 'Sci-Fi',\n 'Science',\n 'Science & Nature',\n 'Sport',\n nan}"
     },
     "execution_count": 105,
     "metadata": {},
     "output_type": "execute_result"
    }
   ],
   "source": [
    "categories = set(df['category'].tolist())\n",
    "categories"
   ],
   "metadata": {
    "collapsed": false,
    "pycharm": {
     "name": "#%%\n"
    }
   }
  },
  {
   "cell_type": "code",
   "execution_count": 106,
   "outputs": [
    {
     "data": {
      "text/plain": "     index                                       title  \\\n515    515                                     Ivanhoe   \n538    538                     Lara Croft: Tomb Raider   \n546    546                                      El Cid   \n568    568                            The Spanish Main   \n576    576  Lara Croft Tomb Raider: The Cradle of Life   \n590    590                       Blackbeard the Pirate   \n\n                                           description  \\\n515  Ivanhoe fights for the honour of the kidnapped...   \n538  The heroine races against time to find a relic...   \n546  The epic story of the 11th-century Spanish her...   \n568  Swashbuckling adventure in which a crew of ens...   \n576  Archaeologist Lara Croft faces a race against ...   \n590  Swashbuckling adventure set on the high seas i...   \n\n                                                 image  \\\n515  https://ichef.bbci.co.uk/images/ic/{recipe}/p0...   \n538  https://ichef.bbci.co.uk/images/ic/{recipe}/p0...   \n546  https://ichef.bbci.co.uk/images/ic/{recipe}/p0...   \n568  https://ichef.bbci.co.uk/images/ic/{recipe}/p0...   \n576  https://ichef.bbci.co.uk/images/ic/{recipe}/p0...   \n590  https://ichef.bbci.co.uk/images/ic/{recipe}/p0...   \n\n                                              keywords  \\\n515                          BBC, iPlayer, TV, Ivanhoe   \n538          BBC, iPlayer, TV, Lara Croft: Tomb Raider   \n546                           BBC, iPlayer, TV, El Cid   \n568                 BBC, iPlayer, TV, The Spanish Main   \n576  BBC, iPlayer, TV, Lara Croft Tomb Raider: The ...   \n590            BBC, iPlayer, TV, Blackbeard the Pirate   \n\n                                                syno_s  \\\n515  Ivanhoe fights for the honour of the kidnapped...   \n538  The heroine races against time to find a relic...   \n546  The epic story of the 11th-century Spanish her...   \n568  Swashbuckling adventure in which a crew of ens...   \n576  Archaeologist Lara Croft faces a race against ...   \n590  Swashbuckling adventure set on the high seas i...   \n\n                                                syno_m  \\\n515  Swashbuckling spectacular based on the novel b...   \n538  Action tale adapted from the popular video gam...   \n546  Epic story of the Spanish hero (Charlton Hesto...   \n568  Swashbuckling adventure in which a Spanish gov...   \n576  Globetrotting action sequel in which archaeolo...   \n590  Swashbuckler set on the high seas in the 17th ...   \n\n                                                syno_l          category  \\\n515  Swashbuckling spectacular based on the novel b...  Film - Adventure   \n538  Action tale adapted from the popular video gam...  Film - Adventure   \n546  The epic story of the 11th-century Spanish her...  Film - Adventure   \n568  Early RKO Technicolor swashbuckling adventure....  Film - Adventure   \n576  Globetrotting action sequel in which intrepid ...  Film - Adventure   \n590  Swashbuckling adventure set on the high seas i...  Film - Adventure   \n\n       channel language release_date  duration_sec                   topic  \n515    bbc_two    False         1952          6136  films, drama-and-soaps  \n538  bbc_three    False         2001          5614  films, drama-and-soaps  \n546    bbc_two    False         1961         10297  films, drama-and-soaps  \n568    bbc_two    False         1945          5741  films, drama-and-soaps  \n576  bbc_three    False         2003          6320  films, drama-and-soaps  \n590    bbc_two    False         1952          5913  films, drama-and-soaps  ",
      "text/html": "<div>\n<style scoped>\n    .dataframe tbody tr th:only-of-type {\n        vertical-align: middle;\n    }\n\n    .dataframe tbody tr th {\n        vertical-align: top;\n    }\n\n    .dataframe thead th {\n        text-align: right;\n    }\n</style>\n<table border=\"1\" class=\"dataframe\">\n  <thead>\n    <tr style=\"text-align: right;\">\n      <th></th>\n      <th>index</th>\n      <th>title</th>\n      <th>description</th>\n      <th>image</th>\n      <th>keywords</th>\n      <th>syno_s</th>\n      <th>syno_m</th>\n      <th>syno_l</th>\n      <th>category</th>\n      <th>channel</th>\n      <th>language</th>\n      <th>release_date</th>\n      <th>duration_sec</th>\n      <th>topic</th>\n    </tr>\n  </thead>\n  <tbody>\n    <tr>\n      <th>515</th>\n      <td>515</td>\n      <td>Ivanhoe</td>\n      <td>Ivanhoe fights for the honour of the kidnapped...</td>\n      <td>https://ichef.bbci.co.uk/images/ic/{recipe}/p0...</td>\n      <td>BBC, iPlayer, TV, Ivanhoe</td>\n      <td>Ivanhoe fights for the honour of the kidnapped...</td>\n      <td>Swashbuckling spectacular based on the novel b...</td>\n      <td>Swashbuckling spectacular based on the novel b...</td>\n      <td>Film - Adventure</td>\n      <td>bbc_two</td>\n      <td>False</td>\n      <td>1952</td>\n      <td>6136</td>\n      <td>films, drama-and-soaps</td>\n    </tr>\n    <tr>\n      <th>538</th>\n      <td>538</td>\n      <td>Lara Croft: Tomb Raider</td>\n      <td>The heroine races against time to find a relic...</td>\n      <td>https://ichef.bbci.co.uk/images/ic/{recipe}/p0...</td>\n      <td>BBC, iPlayer, TV, Lara Croft: Tomb Raider</td>\n      <td>The heroine races against time to find a relic...</td>\n      <td>Action tale adapted from the popular video gam...</td>\n      <td>Action tale adapted from the popular video gam...</td>\n      <td>Film - Adventure</td>\n      <td>bbc_three</td>\n      <td>False</td>\n      <td>2001</td>\n      <td>5614</td>\n      <td>films, drama-and-soaps</td>\n    </tr>\n    <tr>\n      <th>546</th>\n      <td>546</td>\n      <td>El Cid</td>\n      <td>The epic story of the 11th-century Spanish her...</td>\n      <td>https://ichef.bbci.co.uk/images/ic/{recipe}/p0...</td>\n      <td>BBC, iPlayer, TV, El Cid</td>\n      <td>The epic story of the 11th-century Spanish her...</td>\n      <td>Epic story of the Spanish hero (Charlton Hesto...</td>\n      <td>The epic story of the 11th-century Spanish her...</td>\n      <td>Film - Adventure</td>\n      <td>bbc_two</td>\n      <td>False</td>\n      <td>1961</td>\n      <td>10297</td>\n      <td>films, drama-and-soaps</td>\n    </tr>\n    <tr>\n      <th>568</th>\n      <td>568</td>\n      <td>The Spanish Main</td>\n      <td>Swashbuckling adventure in which a crew of ens...</td>\n      <td>https://ichef.bbci.co.uk/images/ic/{recipe}/p0...</td>\n      <td>BBC, iPlayer, TV, The Spanish Main</td>\n      <td>Swashbuckling adventure in which a crew of ens...</td>\n      <td>Swashbuckling adventure in which a Spanish gov...</td>\n      <td>Early RKO Technicolor swashbuckling adventure....</td>\n      <td>Film - Adventure</td>\n      <td>bbc_two</td>\n      <td>False</td>\n      <td>1945</td>\n      <td>5741</td>\n      <td>films, drama-and-soaps</td>\n    </tr>\n    <tr>\n      <th>576</th>\n      <td>576</td>\n      <td>Lara Croft Tomb Raider: The Cradle of Life</td>\n      <td>Archaeologist Lara Croft faces a race against ...</td>\n      <td>https://ichef.bbci.co.uk/images/ic/{recipe}/p0...</td>\n      <td>BBC, iPlayer, TV, Lara Croft Tomb Raider: The ...</td>\n      <td>Archaeologist Lara Croft faces a race against ...</td>\n      <td>Globetrotting action sequel in which archaeolo...</td>\n      <td>Globetrotting action sequel in which intrepid ...</td>\n      <td>Film - Adventure</td>\n      <td>bbc_three</td>\n      <td>False</td>\n      <td>2003</td>\n      <td>6320</td>\n      <td>films, drama-and-soaps</td>\n    </tr>\n    <tr>\n      <th>590</th>\n      <td>590</td>\n      <td>Blackbeard the Pirate</td>\n      <td>Swashbuckling adventure set on the high seas i...</td>\n      <td>https://ichef.bbci.co.uk/images/ic/{recipe}/p0...</td>\n      <td>BBC, iPlayer, TV, Blackbeard the Pirate</td>\n      <td>Swashbuckling adventure set on the high seas i...</td>\n      <td>Swashbuckler set on the high seas in the 17th ...</td>\n      <td>Swashbuckling adventure set on the high seas i...</td>\n      <td>Film - Adventure</td>\n      <td>bbc_two</td>\n      <td>False</td>\n      <td>1952</td>\n      <td>5913</td>\n      <td>films, drama-and-soaps</td>\n    </tr>\n  </tbody>\n</table>\n</div>"
     },
     "execution_count": 106,
     "metadata": {},
     "output_type": "execute_result"
    }
   ],
   "source": [
    "df[df['category'] == 'Film - Adventure']"
   ],
   "metadata": {
    "collapsed": false,
    "pycharm": {
     "name": "#%%\n"
    }
   }
  }
 ],
 "metadata": {
  "kernelspec": {
   "display_name": "Python 3",
   "language": "python",
   "name": "python3"
  },
  "language_info": {
   "codemirror_mode": {
    "name": "ipython",
    "version": 2
   },
   "file_extension": ".py",
   "mimetype": "text/x-python",
   "name": "python",
   "nbconvert_exporter": "python",
   "pygments_lexer": "ipython2",
   "version": "2.7.6"
  }
 },
 "nbformat": 4,
 "nbformat_minor": 0
}