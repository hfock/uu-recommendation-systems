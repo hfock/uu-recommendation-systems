{
 "cells": [
  {
   "cell_type": "code",
   "execution_count": 123,
   "metadata": {
    "collapsed": true
   },
   "outputs": [],
   "source": [
    "import pandas as pd\n",
    "\n",
    "import csv_utils"
   ]
  },
  {
   "cell_type": "code",
   "execution_count": 157,
   "outputs": [],
   "source": [
    "#df = pd.read_csv('./../data/BBC/bbc_data.csv', sep=';', index_col=0)\n",
    "df = pd.read_csv('./../data/BBC/bbc_images.csv', sep=';', index_col=0)"
   ],
   "metadata": {
    "collapsed": false,
    "pycharm": {
     "name": "#%%\n"
    }
   }
  },
  {
   "cell_type": "code",
   "execution_count": 158,
   "outputs": [
    {
     "data": {
      "text/plain": "      index                                              image  \\\n0         0  https://ichef.bbci.co.uk/images/ic/{recipe}/p0...   \n1         1  https://ichef.bbci.co.uk/images/ic/{recipe}/p0...   \n2         2  https://ichef.bbci.co.uk/images/ic/{recipe}/p0...   \n3         3  https://ichef.bbci.co.uk/images/ic/{recipe}/p0...   \n4         4  https://ichef.bbci.co.uk/images/ic/{recipe}/p0...   \n...     ...                                                ...   \n3798   3798  https://ichef.bbci.co.uk/images/ic/{recipe}/p0...   \n3799   3799  https://ichef.bbci.co.uk/images/ic/{recipe}/p0...   \n3800   3800  https://ichef.bbci.co.uk/images/ic/{recipe}/p0...   \n3801   3801  https://ichef.bbci.co.uk/images/ic/{recipe}/p0...   \n3802   3802  https://ichef.bbci.co.uk/images/ic/{recipe}/p0...   \n\n                                                image_s  \\\n0     https://ichef.bbci.co.uk/images/ic/192x108/p09...   \n1     https://ichef.bbci.co.uk/images/ic/192x108/p08...   \n2     https://ichef.bbci.co.uk/images/ic/192x108/p0b...   \n3     https://ichef.bbci.co.uk/images/ic/192x108/p04...   \n4     https://ichef.bbci.co.uk/images/ic/192x108/p0b...   \n...                                                 ...   \n3798  https://ichef.bbci.co.uk/images/ic/192x108/p07...   \n3799  https://ichef.bbci.co.uk/images/ic/192x108/p09...   \n3800  https://ichef.bbci.co.uk/images/ic/192x108/p07...   \n3801  https://ichef.bbci.co.uk/images/ic/192x108/p0b...   \n3802  https://ichef.bbci.co.uk/images/ic/192x108/p0b...   \n\n                                                image_m  \\\n0     https://ichef.bbci.co.uk/images/ic/288x162/p09...   \n1     https://ichef.bbci.co.uk/images/ic/288x162/p08...   \n2     https://ichef.bbci.co.uk/images/ic/288x162/p0b...   \n3     https://ichef.bbci.co.uk/images/ic/288x162/p04...   \n4     https://ichef.bbci.co.uk/images/ic/288x162/p0b...   \n...                                                 ...   \n3798  https://ichef.bbci.co.uk/images/ic/288x162/p07...   \n3799  https://ichef.bbci.co.uk/images/ic/288x162/p09...   \n3800  https://ichef.bbci.co.uk/images/ic/288x162/p07...   \n3801  https://ichef.bbci.co.uk/images/ic/288x162/p0b...   \n3802  https://ichef.bbci.co.uk/images/ic/288x162/p0b...   \n\n                                                image_l  \n0     https://ichef.bbci.co.uk/images/ic/352x198/p09...  \n1     https://ichef.bbci.co.uk/images/ic/352x198/p08...  \n2     https://ichef.bbci.co.uk/images/ic/352x198/p0b...  \n3     https://ichef.bbci.co.uk/images/ic/352x198/p04...  \n4     https://ichef.bbci.co.uk/images/ic/352x198/p0b...  \n...                                                 ...  \n3798  https://ichef.bbci.co.uk/images/ic/352x198/p07...  \n3799  https://ichef.bbci.co.uk/images/ic/352x198/p09...  \n3800  https://ichef.bbci.co.uk/images/ic/352x198/p07...  \n3801  https://ichef.bbci.co.uk/images/ic/352x198/p0b...  \n3802  https://ichef.bbci.co.uk/images/ic/352x198/p0b...  \n\n[3803 rows x 5 columns]",
      "text/html": "<div>\n<style scoped>\n    .dataframe tbody tr th:only-of-type {\n        vertical-align: middle;\n    }\n\n    .dataframe tbody tr th {\n        vertical-align: top;\n    }\n\n    .dataframe thead th {\n        text-align: right;\n    }\n</style>\n<table border=\"1\" class=\"dataframe\">\n  <thead>\n    <tr style=\"text-align: right;\">\n      <th></th>\n      <th>index</th>\n      <th>image</th>\n      <th>image_s</th>\n      <th>image_m</th>\n      <th>image_l</th>\n    </tr>\n  </thead>\n  <tbody>\n    <tr>\n      <th>0</th>\n      <td>0</td>\n      <td>https://ichef.bbci.co.uk/images/ic/{recipe}/p0...</td>\n      <td>https://ichef.bbci.co.uk/images/ic/192x108/p09...</td>\n      <td>https://ichef.bbci.co.uk/images/ic/288x162/p09...</td>\n      <td>https://ichef.bbci.co.uk/images/ic/352x198/p09...</td>\n    </tr>\n    <tr>\n      <th>1</th>\n      <td>1</td>\n      <td>https://ichef.bbci.co.uk/images/ic/{recipe}/p0...</td>\n      <td>https://ichef.bbci.co.uk/images/ic/192x108/p08...</td>\n      <td>https://ichef.bbci.co.uk/images/ic/288x162/p08...</td>\n      <td>https://ichef.bbci.co.uk/images/ic/352x198/p08...</td>\n    </tr>\n    <tr>\n      <th>2</th>\n      <td>2</td>\n      <td>https://ichef.bbci.co.uk/images/ic/{recipe}/p0...</td>\n      <td>https://ichef.bbci.co.uk/images/ic/192x108/p0b...</td>\n      <td>https://ichef.bbci.co.uk/images/ic/288x162/p0b...</td>\n      <td>https://ichef.bbci.co.uk/images/ic/352x198/p0b...</td>\n    </tr>\n    <tr>\n      <th>3</th>\n      <td>3</td>\n      <td>https://ichef.bbci.co.uk/images/ic/{recipe}/p0...</td>\n      <td>https://ichef.bbci.co.uk/images/ic/192x108/p04...</td>\n      <td>https://ichef.bbci.co.uk/images/ic/288x162/p04...</td>\n      <td>https://ichef.bbci.co.uk/images/ic/352x198/p04...</td>\n    </tr>\n    <tr>\n      <th>4</th>\n      <td>4</td>\n      <td>https://ichef.bbci.co.uk/images/ic/{recipe}/p0...</td>\n      <td>https://ichef.bbci.co.uk/images/ic/192x108/p0b...</td>\n      <td>https://ichef.bbci.co.uk/images/ic/288x162/p0b...</td>\n      <td>https://ichef.bbci.co.uk/images/ic/352x198/p0b...</td>\n    </tr>\n    <tr>\n      <th>...</th>\n      <td>...</td>\n      <td>...</td>\n      <td>...</td>\n      <td>...</td>\n      <td>...</td>\n    </tr>\n    <tr>\n      <th>3798</th>\n      <td>3798</td>\n      <td>https://ichef.bbci.co.uk/images/ic/{recipe}/p0...</td>\n      <td>https://ichef.bbci.co.uk/images/ic/192x108/p07...</td>\n      <td>https://ichef.bbci.co.uk/images/ic/288x162/p07...</td>\n      <td>https://ichef.bbci.co.uk/images/ic/352x198/p07...</td>\n    </tr>\n    <tr>\n      <th>3799</th>\n      <td>3799</td>\n      <td>https://ichef.bbci.co.uk/images/ic/{recipe}/p0...</td>\n      <td>https://ichef.bbci.co.uk/images/ic/192x108/p09...</td>\n      <td>https://ichef.bbci.co.uk/images/ic/288x162/p09...</td>\n      <td>https://ichef.bbci.co.uk/images/ic/352x198/p09...</td>\n    </tr>\n    <tr>\n      <th>3800</th>\n      <td>3800</td>\n      <td>https://ichef.bbci.co.uk/images/ic/{recipe}/p0...</td>\n      <td>https://ichef.bbci.co.uk/images/ic/192x108/p07...</td>\n      <td>https://ichef.bbci.co.uk/images/ic/288x162/p07...</td>\n      <td>https://ichef.bbci.co.uk/images/ic/352x198/p07...</td>\n    </tr>\n    <tr>\n      <th>3801</th>\n      <td>3801</td>\n      <td>https://ichef.bbci.co.uk/images/ic/{recipe}/p0...</td>\n      <td>https://ichef.bbci.co.uk/images/ic/192x108/p0b...</td>\n      <td>https://ichef.bbci.co.uk/images/ic/288x162/p0b...</td>\n      <td>https://ichef.bbci.co.uk/images/ic/352x198/p0b...</td>\n    </tr>\n    <tr>\n      <th>3802</th>\n      <td>3802</td>\n      <td>https://ichef.bbci.co.uk/images/ic/{recipe}/p0...</td>\n      <td>https://ichef.bbci.co.uk/images/ic/192x108/p0b...</td>\n      <td>https://ichef.bbci.co.uk/images/ic/288x162/p0b...</td>\n      <td>https://ichef.bbci.co.uk/images/ic/352x198/p0b...</td>\n    </tr>\n  </tbody>\n</table>\n<p>3803 rows × 5 columns</p>\n</div>"
     },
     "execution_count": 158,
     "metadata": {},
     "output_type": "execute_result"
    }
   ],
   "source": [
    "df"
   ],
   "metadata": {
    "collapsed": false,
    "pycharm": {
     "name": "#%%\n"
    }
   }
  },
  {
   "cell_type": "code",
   "execution_count": 126,
   "outputs": [],
   "source": [
    "# columns = ['index', 'title', 'description', 'image', 'keywords', 'syno_s', 'syno_m', 'syno_l', 'category', 'channel', 'language', 'release_date', 'duration_sec', 'topic']\n",
    "#\n",
    "# df.columns = columns"
   ],
   "metadata": {
    "collapsed": false,
    "pycharm": {
     "name": "#%%\n"
    }
   }
  },
  {
   "cell_type": "markdown",
   "source": [
    "## Image Processing"
   ],
   "metadata": {
    "collapsed": false
   }
  },
  {
   "cell_type": "code",
   "execution_count": 127,
   "outputs": [],
   "source": [
    "s = '192x108'\n",
    "m = '288x162'\n",
    "l = '352x198'\n",
    "def generate_img(df_inp, size):\n",
    "    return [image.replace('{recipe}', size) for image in df_inp['image']]\n",
    "# df['image_l'] = generate_img(df, l)"
   ],
   "metadata": {
    "collapsed": false,
    "pycharm": {
     "name": "#%%\n"
    }
   }
  },
  {
   "cell_type": "code",
   "execution_count": 152,
   "outputs": [],
   "source": [
    "df_img = df.loc[:, ['index', 'image', 'image_s', 'image_m', 'image_l']]\n",
    "# df_img.to_csv('../data/BBC/bbc_images.csv', sep=';')"
   ],
   "metadata": {
    "collapsed": false,
    "pycharm": {
     "name": "#%%\n"
    }
   }
  },
  {
   "cell_type": "markdown",
   "source": [
    "## Synopses clearing"
   ],
   "metadata": {
    "collapsed": false,
    "pycharm": {
     "name": "#%% md\n"
    }
   }
  },
  {
   "cell_type": "code",
   "execution_count": 134,
   "outputs": [
    {
     "data": {
      "text/plain": "0"
     },
     "execution_count": 134,
     "metadata": {},
     "output_type": "execute_result"
    }
   ],
   "source": [
    "len(df[df['syno_s'].isna()])"
   ],
   "metadata": {
    "collapsed": false,
    "pycharm": {
     "name": "#%%\n"
    }
   }
  },
  {
   "cell_type": "code",
   "execution_count": 145,
   "outputs": [
    {
     "data": {
      "text/plain": "0"
     },
     "execution_count": 145,
     "metadata": {},
     "output_type": "execute_result"
    }
   ],
   "source": [
    "len(df[df['syno_m'].isna()])"
   ],
   "metadata": {
    "collapsed": false,
    "pycharm": {
     "name": "#%%\n"
    }
   }
  },
  {
   "cell_type": "code",
   "execution_count": 144,
   "outputs": [
    {
     "data": {
      "text/plain": "0"
     },
     "execution_count": 144,
     "metadata": {},
     "output_type": "execute_result"
    }
   ],
   "source": [
    "len(df[df['syno_l'].isna()])"
   ],
   "metadata": {
    "collapsed": false,
    "pycharm": {
     "name": "#%%\n"
    }
   }
  },
  {
   "cell_type": "code",
   "execution_count": 137,
   "outputs": [],
   "source": [
    "def fill_column(df_input, origin_col, gap_filler_col):\n",
    "    for index, df_entry in df_input.iterrows():\n",
    "        # checks if the value is the same, if not it is a NaN\n",
    "        if not df_entry[origin_col] == df_entry[origin_col]:\n",
    "            df_input.loc[index, [origin_col]] = df_entry[gap_filler_col]"
   ],
   "metadata": {
    "collapsed": false,
    "pycharm": {
     "name": "#%%\n"
    }
   }
  },
  {
   "cell_type": "code",
   "execution_count": 138,
   "outputs": [],
   "source": [
    "# Substitute all nan syno_m with the syno_s values\n",
    "# fill_column(df, origin_col='syno_m', gap_filler_col='syno_s')\n",
    "# Substitute all nan syno_l with the syno_m values\n",
    "# fill_column(df, origin_col='syno_l', gap_filler_col='syno_m')"
   ],
   "metadata": {
    "collapsed": false,
    "pycharm": {
     "name": "#%%\n"
    }
   }
  },
  {
   "cell_type": "code",
   "execution_count": 141,
   "outputs": [],
   "source": [
    "# df.to_csv('../data/BBC/bbc_data.csv', sep=';')"
   ],
   "metadata": {
    "collapsed": false,
    "pycharm": {
     "name": "#%%\n"
    }
   }
  }
 ],
 "metadata": {
  "kernelspec": {
   "display_name": "Python 3",
   "language": "python",
   "name": "python3"
  },
  "language_info": {
   "codemirror_mode": {
    "name": "ipython",
    "version": 2
   },
   "file_extension": ".py",
   "mimetype": "text/x-python",
   "name": "python",
   "nbconvert_exporter": "python",
   "pygments_lexer": "ipython2",
   "version": "2.7.6"
  }
 },
 "nbformat": 4,
 "nbformat_minor": 0
}