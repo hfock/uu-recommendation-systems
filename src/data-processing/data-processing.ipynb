{
 "cells": [
  {
   "cell_type": "code",
   "execution_count": 40,
   "metadata": {
    "collapsed": true
   },
   "outputs": [],
   "source": [
    "import pandas as pd\n",
    "\n",
    "from sklearn.feature_extraction.text import TfidfVectorizer\n",
    "from sklearn.cluster import KMeans\n",
    "\n",
    "import string\n",
    "\n",
    "import nlputils\n",
    "from nlputils import SpacyPos"
   ]
  },
  {
   "cell_type": "code",
   "execution_count": 41,
   "outputs": [],
   "source": [
    "df = pd.read_csv('./../data/BBC/bbc_data.csv', index_col=0, sep=';')"
   ],
   "metadata": {
    "collapsed": false,
    "pycharm": {
     "name": "#%%\n"
    }
   }
  },
  {
   "cell_type": "code",
   "execution_count": 42,
   "outputs": [
    {
     "data": {
      "text/plain": "                                 title  \\\nid                                       \n0                            BBC Proms   \n1                                 Port   \n2   Sit Down, Stand Up with Greg James   \n3          Ceiliúradh na Féile Pádraig   \n4                      Songs of Praise   \n\n                                          description  \\\nid                                                      \n0   Australian tenor Stuart Skelton is joined by L...   \n1   Previously unseen music from the series Port, ...   \n2   Tom Holland and Greg James cold call celebrity...   \n3   John Toal and Pauline Scanlon introduce an eve...   \n4   Claire McCollum explores Edinburgh and shares ...   \n\n                                                image  \\\nid                                                      \n0   https://ichef.bbci.co.uk/images/ic/{recipe}/p0...   \n1   https://ichef.bbci.co.uk/images/ic/{recipe}/p0...   \n2   https://ichef.bbci.co.uk/images/ic/{recipe}/p0...   \n3   https://ichef.bbci.co.uk/images/ic/{recipe}/p0...   \n4   https://ichef.bbci.co.uk/images/ic/{recipe}/p0...   \n\n                                             keywords  \\\nid                                                      \n0   BBC, iPlayer, TV, BBC Proms, 2021: Last Night ...   \n1         BBC, iPlayer, TV, Port, Series 5: Episode 4   \n2   BBC, iPlayer, TV, Sit Down, Stand Up with Greg...   \n3       BBC, iPlayer, TV, Ceiliúradh na Féile Pádraig   \n4        BBC, iPlayer, TV, Songs of Praise, Edinburgh   \n\n                                       synopses_small  \\\nid                                                      \n0   Australian tenor Stuart Skelton is joined by L...   \n1   Previously unseen music from the series Port, ...   \n2   Tom Holland and Greg James cold call celebrity...   \n3   John Toal and Pauline Scanlon introduce an eve...   \n4   Claire McCollum explores Edinburgh and shares ...   \n\n                                           synops_med  \\\nid                                                      \n0   Australian tenor Stuart Skelton is joined by L...   \n1   Julie Fowlis a’ lìbhrigeadh ceòl bhon t-sreath...   \n2   Tom Holland and Greg James cold call celebrity...   \n3   John Toal and Pauline Scanlon introduce an eve...   \n4   Claire McCollum goes on a Christian heritage t...   \n\n                                          synops_long       category  \\\nid                                                                     \n0   Katie Derham hosts continued live coverage fro...          Music   \n1   Bidh Druthag Bheag Eile a’ tarraing ri chèile ...          Music   \n2                                                 NaN  Entertainment   \n3   John Toal and Pauline Scanlon introduce an eve...          Music   \n4   Claire McCollum explores Edinburgh and discove...          Music   \n\n                             channel language        release_date  \\\nid                                                                  \n0                    bbc_radio_three    False     9pm 11 Sep 2021   \n1                           bbc_alba    False          9 Jul 2020   \n2                      bbc_radio_one    False         10 Feb 2022   \n3   bbc_two_northern_ireland_digital    False         17 Mar 2017   \n4                            bbc_one    False  1:15pm 20 Feb 2022   \n\n    duration_sec  topic  \nid                       \n0           5247  music  \n1           1037  music  \n2            611  music  \n3           3538  music  \n4           2044  music  ",
      "text/html": "<div>\n<style scoped>\n    .dataframe tbody tr th:only-of-type {\n        vertical-align: middle;\n    }\n\n    .dataframe tbody tr th {\n        vertical-align: top;\n    }\n\n    .dataframe thead th {\n        text-align: right;\n    }\n</style>\n<table border=\"1\" class=\"dataframe\">\n  <thead>\n    <tr style=\"text-align: right;\">\n      <th></th>\n      <th>title</th>\n      <th>description</th>\n      <th>image</th>\n      <th>keywords</th>\n      <th>synopses_small</th>\n      <th>synops_med</th>\n      <th>synops_long</th>\n      <th>category</th>\n      <th>channel</th>\n      <th>language</th>\n      <th>release_date</th>\n      <th>duration_sec</th>\n      <th>topic</th>\n    </tr>\n    <tr>\n      <th>id</th>\n      <th></th>\n      <th></th>\n      <th></th>\n      <th></th>\n      <th></th>\n      <th></th>\n      <th></th>\n      <th></th>\n      <th></th>\n      <th></th>\n      <th></th>\n      <th></th>\n      <th></th>\n    </tr>\n  </thead>\n  <tbody>\n    <tr>\n      <th>0</th>\n      <td>BBC Proms</td>\n      <td>Australian tenor Stuart Skelton is joined by L...</td>\n      <td>https://ichef.bbci.co.uk/images/ic/{recipe}/p0...</td>\n      <td>BBC, iPlayer, TV, BBC Proms, 2021: Last Night ...</td>\n      <td>Australian tenor Stuart Skelton is joined by L...</td>\n      <td>Australian tenor Stuart Skelton is joined by L...</td>\n      <td>Katie Derham hosts continued live coverage fro...</td>\n      <td>Music</td>\n      <td>bbc_radio_three</td>\n      <td>False</td>\n      <td>9pm 11 Sep 2021</td>\n      <td>5247</td>\n      <td>music</td>\n    </tr>\n    <tr>\n      <th>1</th>\n      <td>Port</td>\n      <td>Previously unseen music from the series Port, ...</td>\n      <td>https://ichef.bbci.co.uk/images/ic/{recipe}/p0...</td>\n      <td>BBC, iPlayer, TV, Port, Series 5: Episode 4</td>\n      <td>Previously unseen music from the series Port, ...</td>\n      <td>Julie Fowlis a’ lìbhrigeadh ceòl bhon t-sreath...</td>\n      <td>Bidh Druthag Bheag Eile a’ tarraing ri chèile ...</td>\n      <td>Music</td>\n      <td>bbc_alba</td>\n      <td>False</td>\n      <td>9 Jul 2020</td>\n      <td>1037</td>\n      <td>music</td>\n    </tr>\n    <tr>\n      <th>2</th>\n      <td>Sit Down, Stand Up with Greg James</td>\n      <td>Tom Holland and Greg James cold call celebrity...</td>\n      <td>https://ichef.bbci.co.uk/images/ic/{recipe}/p0...</td>\n      <td>BBC, iPlayer, TV, Sit Down, Stand Up with Greg...</td>\n      <td>Tom Holland and Greg James cold call celebrity...</td>\n      <td>Tom Holland and Greg James cold call celebrity...</td>\n      <td>NaN</td>\n      <td>Entertainment</td>\n      <td>bbc_radio_one</td>\n      <td>False</td>\n      <td>10 Feb 2022</td>\n      <td>611</td>\n      <td>music</td>\n    </tr>\n    <tr>\n      <th>3</th>\n      <td>Ceiliúradh na Féile Pádraig</td>\n      <td>John Toal and Pauline Scanlon introduce an eve...</td>\n      <td>https://ichef.bbci.co.uk/images/ic/{recipe}/p0...</td>\n      <td>BBC, iPlayer, TV, Ceiliúradh na Féile Pádraig</td>\n      <td>John Toal and Pauline Scanlon introduce an eve...</td>\n      <td>John Toal and Pauline Scanlon introduce an eve...</td>\n      <td>John Toal and Pauline Scanlon introduce an eve...</td>\n      <td>Music</td>\n      <td>bbc_two_northern_ireland_digital</td>\n      <td>False</td>\n      <td>17 Mar 2017</td>\n      <td>3538</td>\n      <td>music</td>\n    </tr>\n    <tr>\n      <th>4</th>\n      <td>Songs of Praise</td>\n      <td>Claire McCollum explores Edinburgh and shares ...</td>\n      <td>https://ichef.bbci.co.uk/images/ic/{recipe}/p0...</td>\n      <td>BBC, iPlayer, TV, Songs of Praise, Edinburgh</td>\n      <td>Claire McCollum explores Edinburgh and shares ...</td>\n      <td>Claire McCollum goes on a Christian heritage t...</td>\n      <td>Claire McCollum explores Edinburgh and discove...</td>\n      <td>Music</td>\n      <td>bbc_one</td>\n      <td>False</td>\n      <td>1:15pm 20 Feb 2022</td>\n      <td>2044</td>\n      <td>music</td>\n    </tr>\n  </tbody>\n</table>\n</div>"
     },
     "execution_count": 42,
     "metadata": {},
     "output_type": "execute_result"
    }
   ],
   "source": [
    "df.head()"
   ],
   "metadata": {
    "collapsed": false,
    "pycharm": {
     "name": "#%%\n"
    }
   }
  },
  {
   "cell_type": "code",
   "execution_count": 43,
   "outputs": [
    {
     "name": "stdout",
     "output_type": "stream",
     "text": [
      "3803\n",
      "True\n"
     ]
    }
   ],
   "source": [
    "print(len(df))\n",
    "print(df['synops_long'].isnull().values.any())"
   ],
   "metadata": {
    "collapsed": false,
    "pycharm": {
     "name": "#%%\n"
    }
   }
  },
  {
   "cell_type": "code",
   "execution_count": 44,
   "outputs": [],
   "source": [
    "df_no_na = df.dropna()"
   ],
   "metadata": {
    "collapsed": false,
    "pycharm": {
     "name": "#%%\n"
    }
   }
  },
  {
   "cell_type": "code",
   "execution_count": 45,
   "outputs": [
    {
     "name": "stdout",
     "output_type": "stream",
     "text": [
      "3129\n",
      "False\n"
     ]
    }
   ],
   "source": [
    "print(len(df_no_na))\n",
    "print(df_no_na['synops_long'].isnull().values.any())"
   ],
   "metadata": {
    "collapsed": false,
    "pycharm": {
     "name": "#%%\n"
    }
   }
  },
  {
   "cell_type": "code",
   "execution_count": 46,
   "outputs": [
    {
     "data": {
      "text/plain": "  0%|          | 0/3129 [00:00<?, ?it/s]",
      "application/vnd.jupyter.widget-view+json": {
       "version_major": 2,
       "version_minor": 0,
       "model_id": "e0cd5548ad59476da8876977c30be3bc"
      }
     },
     "metadata": {},
     "output_type": "display_data"
    },
    {
     "name": "stderr",
     "output_type": "stream",
     "text": [
      "/var/folders/2s/d47mm4m157l7p7yy3xrkwqsh0000gn/T/ipykernel_10196/2340832741.py:1: SettingWithCopyWarning: \n",
      "A value is trying to be set on a copy of a slice from a DataFrame.\n",
      "Try using .loc[row_indexer,col_indexer] = value instead\n",
      "\n",
      "See the caveats in the documentation: https://pandas.pydata.org/pandas-docs/stable/user_guide/indexing.html#returning-a-view-versus-a-copy\n",
      "  df_no_na['spacied_synops_long'] = nlputils.spacy_text(df_no_na['synops_long'])\n"
     ]
    }
   ],
   "source": [
    "df_no_na['spacied_synops_long'] = nlputils.spacy_text(df_no_na['synops_long'])"
   ],
   "metadata": {
    "collapsed": false,
    "pycharm": {
     "name": "#%%\n"
    }
   }
  },
  {
   "cell_type": "code",
   "execution_count": 47,
   "outputs": [
    {
     "name": "stderr",
     "output_type": "stream",
     "text": [
      "/var/folders/2s/d47mm4m157l7p7yy3xrkwqsh0000gn/T/ipykernel_10196/188496553.py:2: SettingWithCopyWarning: \n",
      "A value is trying to be set on a copy of a slice from a DataFrame.\n",
      "Try using .loc[row_indexer,col_indexer] = value instead\n",
      "\n",
      "See the caveats in the documentation: https://pandas.pydata.org/pandas-docs/stable/user_guide/indexing.html#returning-a-view-versus-a-copy\n",
      "  df_no_na['tokenized_synops_long'] = nlputils.pre_process(df_no_na['spacied_synops_long'], pos_napv)\n"
     ]
    }
   ],
   "source": [
    "pos_napv = [SpacyPos.NOUN, SpacyPos.ADJ, SpacyPos.PROPN, SpacyPos.VERB]\n",
    "df_no_na['tokenized_synops_long'] = nlputils.pre_process(df_no_na['spacied_synops_long'], pos_napv)"
   ],
   "metadata": {
    "collapsed": false,
    "pycharm": {
     "name": "#%%\n"
    }
   }
  },
  {
   "cell_type": "code",
   "execution_count": 48,
   "outputs": [],
   "source": [
    "list_synopses = df_no_na['synops_long'].values.astype('U').tolist()"
   ],
   "metadata": {
    "collapsed": false,
    "pycharm": {
     "name": "#%%\n"
    }
   }
  },
  {
   "cell_type": "code",
   "execution_count": 49,
   "outputs": [],
   "source": [
    "def preprocess(text):\n",
    "    return text.translate(str.maketrans('', '', string.punctuation))"
   ],
   "metadata": {
    "collapsed": false,
    "pycharm": {
     "name": "#%%\n"
    }
   }
  },
  {
   "cell_type": "code",
   "execution_count": 50,
   "outputs": [],
   "source": [
    "tfidf_vectorizer = TfidfVectorizer(preprocessor=preprocess, lowercase=True, stop_words='english')\n",
    "\n",
    "tfidf = tfidf_vectorizer.fit_transform(list_synopses)\n",
    "\n",
    "kmeans = KMeans(n_clusters=3).fit(tfidf)"
   ],
   "metadata": {
    "collapsed": false,
    "pycharm": {
     "name": "#%%\n"
    }
   }
  },
  {
   "cell_type": "code",
   "execution_count": 54,
   "outputs": [
    {
     "data": {
      "text/plain": "array([0, 0], dtype=int32)"
     },
     "execution_count": 54,
     "metadata": {},
     "output_type": "execute_result"
    }
   ],
   "source": [
    "sentences_to_predict = [\"I am a young person looking for an apartment in San Francisco\", \"I really like the old vibes and of Miami\"]\n",
    "kmeans.predict(tfidf_vectorizer.transform(sentences_to_predict))"
   ],
   "metadata": {
    "collapsed": false,
    "pycharm": {
     "name": "#%%\n"
    }
   }
  },
  {
   "cell_type": "code",
   "execution_count": 52,
   "outputs": [],
   "source": [
    "import numpy as np\n",
    "import matplotlib.pyplot as plt\n",
    "from sklearn.decomposition import PCA\n",
    "\n",
    "def plot(user_ratings, k):\n",
    "\n",
    "        h = 0.2\n",
    "        reduced_data = PCA(n_components=2).fit_transform(user_ratings)\n",
    "\n",
    "        kmeans = KMeans(init='k-means++', n_clusters=k, n_init=10)\n",
    "        kmeans.fit(reduced_data)\n",
    "\n",
    "        x_min, x_max = reduced_data[:, 0].min() - 1, reduced_data[:, 0].max() + 1\n",
    "        y_min, y_max = reduced_data[:, 1].min() - 1, reduced_data[:, 1].max() + 1\n",
    "        xx, yy = np.meshgrid(np.arange(x_min, x_max, h), np.arange(y_min, y_max, h))\n",
    "\n",
    "        Z = kmeans.predict(np.c_[xx.ravel(), yy.ravel()])\n",
    "\n",
    "        # Put the result into a color plot\n",
    "        Z = Z.reshape(xx.shape)\n",
    "\n",
    "        plt.figure(1)\n",
    "        plt.clf()\n",
    "        plt.imshow(Z, interpolation='nearest',\n",
    "                   extent=(xx.min(), xx.max(), yy.min(), yy.max()),\n",
    "                   cmap=plt.cm.Paired,\n",
    "                   aspect='auto', origin='lower')\n",
    "\n",
    "        centroids = kmeans.cluster_centers_\n",
    "        plt.plot(reduced_data[:, 0], reduced_data[:, 1], 'k.', markersize=2)\n",
    "        plt.scatter(centroids[:, 0], centroids[:, 1],\n",
    "                    marker='x', s=169, linewidths=3,\n",
    "                    color='r', zorder=10)\n",
    "        plt.title('K-means clustering of the user')"
   ],
   "metadata": {
    "collapsed": false,
    "pycharm": {
     "name": "#%%\n"
    }
   }
  },
  {
   "cell_type": "code",
   "execution_count": 53,
   "outputs": [
    {
     "name": "stderr",
     "output_type": "stream",
     "text": [
      "/Users/hagenaadfock/miniforge3/envs/default/lib/python3.8/site-packages/sklearn/utils/validation.py:593: FutureWarning: np.matrix usage is deprecated in 1.0 and will raise a TypeError in 1.2. Please convert to a numpy array with np.asarray. For more information see: https://numpy.org/doc/stable/reference/generated/numpy.matrix.html\n",
      "  warnings.warn(\n"
     ]
    },
    {
     "data": {
      "text/plain": "<Figure size 432x288 with 1 Axes>",
      "image/png": "[encoded data removed]"
     },
     "metadata": {
      "needs_background": "light"
     },
     "output_type": "display_data"
    }
   ],
   "source": [
    "from scipy.sparse import dok_matrix\n",
    "\n",
    "d_matrix = dok_matrix(tfidf).todense()\n",
    "\n",
    "plot(user_ratings=d_matrix, k=3)"
   ],
   "metadata": {
    "collapsed": false,
    "pycharm": {
     "name": "#%%\n"
    }
   }
  }
 ],
 "metadata": {
  "kernelspec": {
   "display_name": "Python 3",
   "language": "python",
   "name": "python3"
  },
  "language_info": {
   "codemirror_mode": {
    "name": "ipython",
    "version": 2
   },
   "file_extension": ".py",
   "mimetype": "text/x-python",
   "name": "python",
   "nbconvert_exporter": "python",
   "pygments_lexer": "ipython2",
   "version": "2.7.6"
  }
 },
 "nbformat": 4,
 "nbformat_minor": 0
}